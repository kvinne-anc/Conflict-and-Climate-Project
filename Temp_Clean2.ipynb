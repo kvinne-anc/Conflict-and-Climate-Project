{
  "nbformat": 4,
  "nbformat_minor": 0,
  "metadata": {
    "colab": {
      "name": "Temp_Clean2.ipynb",
      "provenance": [],
      "authorship_tag": "ABX9TyPj9ihcZMxSghtdc7tqslq/",
      "include_colab_link": true
    },
    "kernelspec": {
      "name": "python3",
      "display_name": "Python 3"
    }
  },
  "cells": [
    {
      "cell_type": "markdown",
      "metadata": {
        "id": "view-in-github",
        "colab_type": "text"
      },
      "source": [
        "<a href=\"https://colab.research.google.com/github/kvinne-anc/Conflict-and-Climate-Project/blob/main/Temp_Clean2.ipynb\" target=\"_parent\"><img src=\"https://colab.research.google.com/assets/colab-badge.svg\" alt=\"Open In Colab\"/></a>"
      ]
    },
    {
      "cell_type": "code",
      "metadata": {
        "id": "NO1sPA-nv-X4"
      },
      "source": [
        "import pandas as pd \n",
        "import numpy as np"
      ],
      "execution_count": null,
      "outputs": []
    },
    {
      "cell_type": "code",
      "metadata": {
        "id": "kOkPfmdowKmD",
        "colab": {
          "base_uri": "https://localhost:8080/",
          "height": 606
        },
        "outputId": "406ba39b-9c3f-48af-dd6b-59193841cf44"
      },
      "source": [
        "Temp = pd.read_csv('/content/Temp_C.csv')\n",
        "Temp"
      ],
      "execution_count": null,
      "outputs": [
        {
          "output_type": "execute_result",
          "data": {
            "text/html": [
              "<div>\n",
              "<style scoped>\n",
              "    .dataframe tbody tr th:only-of-type {\n",
              "        vertical-align: middle;\n",
              "    }\n",
              "\n",
              "    .dataframe tbody tr th {\n",
              "        vertical-align: top;\n",
              "    }\n",
              "\n",
              "    .dataframe thead th {\n",
              "        text-align: right;\n",
              "    }\n",
              "</style>\n",
              "<table border=\"1\" class=\"dataframe\">\n",
              "  <thead>\n",
              "    <tr style=\"text-align: right;\">\n",
              "      <th></th>\n",
              "      <th>Unnamed: 0</th>\n",
              "      <th>dt</th>\n",
              "      <th>AverageTemperature</th>\n",
              "      <th>AverageTemperatureUncertainty</th>\n",
              "      <th>City</th>\n",
              "      <th>Country</th>\n",
              "      <th>Latitude</th>\n",
              "      <th>Longitude</th>\n",
              "    </tr>\n",
              "  </thead>\n",
              "  <tbody>\n",
              "    <tr>\n",
              "      <th>0</th>\n",
              "      <td>3239</td>\n",
              "      <td>1743-11-01</td>\n",
              "      <td>10.013</td>\n",
              "      <td>2.291</td>\n",
              "      <td>Çorlu</td>\n",
              "      <td>Turkey</td>\n",
              "      <td>40.99N</td>\n",
              "      <td>27.69E</td>\n",
              "    </tr>\n",
              "    <tr>\n",
              "      <th>1</th>\n",
              "      <td>3240</td>\n",
              "      <td>1743-12-01</td>\n",
              "      <td>NaN</td>\n",
              "      <td>NaN</td>\n",
              "      <td>Çorlu</td>\n",
              "      <td>Turkey</td>\n",
              "      <td>40.99N</td>\n",
              "      <td>27.69E</td>\n",
              "    </tr>\n",
              "    <tr>\n",
              "      <th>2</th>\n",
              "      <td>3241</td>\n",
              "      <td>1744-01-01</td>\n",
              "      <td>NaN</td>\n",
              "      <td>NaN</td>\n",
              "      <td>Çorlu</td>\n",
              "      <td>Turkey</td>\n",
              "      <td>40.99N</td>\n",
              "      <td>27.69E</td>\n",
              "    </tr>\n",
              "    <tr>\n",
              "      <th>3</th>\n",
              "      <td>3242</td>\n",
              "      <td>1744-02-01</td>\n",
              "      <td>NaN</td>\n",
              "      <td>NaN</td>\n",
              "      <td>Çorlu</td>\n",
              "      <td>Turkey</td>\n",
              "      <td>40.99N</td>\n",
              "      <td>27.69E</td>\n",
              "    </tr>\n",
              "    <tr>\n",
              "      <th>4</th>\n",
              "      <td>3243</td>\n",
              "      <td>1744-03-01</td>\n",
              "      <td>NaN</td>\n",
              "      <td>NaN</td>\n",
              "      <td>Çorlu</td>\n",
              "      <td>Turkey</td>\n",
              "      <td>40.99N</td>\n",
              "      <td>27.69E</td>\n",
              "    </tr>\n",
              "    <tr>\n",
              "      <th>...</th>\n",
              "      <td>...</td>\n",
              "      <td>...</td>\n",
              "      <td>...</td>\n",
              "      <td>...</td>\n",
              "      <td>...</td>\n",
              "      <td>...</td>\n",
              "      <td>...</td>\n",
              "      <td>...</td>\n",
              "    </tr>\n",
              "    <tr>\n",
              "      <th>2846732</th>\n",
              "      <td>8589600</td>\n",
              "      <td>2013-05-01</td>\n",
              "      <td>19.473</td>\n",
              "      <td>0.227</td>\n",
              "      <td>Zunyi</td>\n",
              "      <td>China</td>\n",
              "      <td>28.13N</td>\n",
              "      <td>106.36E</td>\n",
              "    </tr>\n",
              "    <tr>\n",
              "      <th>2846733</th>\n",
              "      <td>8589601</td>\n",
              "      <td>2013-06-01</td>\n",
              "      <td>23.670</td>\n",
              "      <td>0.575</td>\n",
              "      <td>Zunyi</td>\n",
              "      <td>China</td>\n",
              "      <td>28.13N</td>\n",
              "      <td>106.36E</td>\n",
              "    </tr>\n",
              "    <tr>\n",
              "      <th>2846734</th>\n",
              "      <td>8589602</td>\n",
              "      <td>2013-07-01</td>\n",
              "      <td>26.159</td>\n",
              "      <td>0.713</td>\n",
              "      <td>Zunyi</td>\n",
              "      <td>China</td>\n",
              "      <td>28.13N</td>\n",
              "      <td>106.36E</td>\n",
              "    </tr>\n",
              "    <tr>\n",
              "      <th>2846735</th>\n",
              "      <td>8589603</td>\n",
              "      <td>2013-08-01</td>\n",
              "      <td>25.502</td>\n",
              "      <td>0.587</td>\n",
              "      <td>Zunyi</td>\n",
              "      <td>China</td>\n",
              "      <td>28.13N</td>\n",
              "      <td>106.36E</td>\n",
              "    </tr>\n",
              "    <tr>\n",
              "      <th>2846736</th>\n",
              "      <td>8589604</td>\n",
              "      <td>2013-09-01</td>\n",
              "      <td>NaN</td>\n",
              "      <td>NaN</td>\n",
              "      <td>Zunyi</td>\n",
              "      <td>China</td>\n",
              "      <td>28.13N</td>\n",
              "      <td>106.36E</td>\n",
              "    </tr>\n",
              "  </tbody>\n",
              "</table>\n",
              "<p>2846737 rows × 8 columns</p>\n",
              "</div>"
            ],
            "text/plain": [
              "         Unnamed: 0          dt  AverageTemperature  ...  Country Latitude Longitude\n",
              "0              3239  1743-11-01              10.013  ...   Turkey   40.99N    27.69E\n",
              "1              3240  1743-12-01                 NaN  ...   Turkey   40.99N    27.69E\n",
              "2              3241  1744-01-01                 NaN  ...   Turkey   40.99N    27.69E\n",
              "3              3242  1744-02-01                 NaN  ...   Turkey   40.99N    27.69E\n",
              "4              3243  1744-03-01                 NaN  ...   Turkey   40.99N    27.69E\n",
              "...             ...         ...                 ...  ...      ...      ...       ...\n",
              "2846732     8589600  2013-05-01              19.473  ...    China   28.13N   106.36E\n",
              "2846733     8589601  2013-06-01              23.670  ...    China   28.13N   106.36E\n",
              "2846734     8589602  2013-07-01              26.159  ...    China   28.13N   106.36E\n",
              "2846735     8589603  2013-08-01              25.502  ...    China   28.13N   106.36E\n",
              "2846736     8589604  2013-09-01                 NaN  ...    China   28.13N   106.36E\n",
              "\n",
              "[2846737 rows x 8 columns]"
            ]
          },
          "metadata": {
            "tags": []
          },
          "execution_count": 192
        }
      ]
    },
    {
      "cell_type": "code",
      "metadata": {
        "id": "649-rfzg09yn",
        "colab": {
          "base_uri": "https://localhost:8080/",
          "height": 606
        },
        "outputId": "9d899e5b-302b-4566-ec2e-7f4ded9aec5c"
      },
      "source": [
        "Temp = Temp[Temp.Country != 'Senegal']\n",
        "Temp"
      ],
      "execution_count": null,
      "outputs": [
        {
          "output_type": "execute_result",
          "data": {
            "text/html": [
              "<div>\n",
              "<style scoped>\n",
              "    .dataframe tbody tr th:only-of-type {\n",
              "        vertical-align: middle;\n",
              "    }\n",
              "\n",
              "    .dataframe tbody tr th {\n",
              "        vertical-align: top;\n",
              "    }\n",
              "\n",
              "    .dataframe thead th {\n",
              "        text-align: right;\n",
              "    }\n",
              "</style>\n",
              "<table border=\"1\" class=\"dataframe\">\n",
              "  <thead>\n",
              "    <tr style=\"text-align: right;\">\n",
              "      <th></th>\n",
              "      <th>Unnamed: 0</th>\n",
              "      <th>dt</th>\n",
              "      <th>AverageTemperature</th>\n",
              "      <th>AverageTemperatureUncertainty</th>\n",
              "      <th>City</th>\n",
              "      <th>Country</th>\n",
              "      <th>Latitude</th>\n",
              "      <th>Longitude</th>\n",
              "    </tr>\n",
              "  </thead>\n",
              "  <tbody>\n",
              "    <tr>\n",
              "      <th>0</th>\n",
              "      <td>3239</td>\n",
              "      <td>1743-11-01</td>\n",
              "      <td>10.013</td>\n",
              "      <td>2.291</td>\n",
              "      <td>Çorlu</td>\n",
              "      <td>Turkey</td>\n",
              "      <td>40.99N</td>\n",
              "      <td>27.69E</td>\n",
              "    </tr>\n",
              "    <tr>\n",
              "      <th>1</th>\n",
              "      <td>3240</td>\n",
              "      <td>1743-12-01</td>\n",
              "      <td>NaN</td>\n",
              "      <td>NaN</td>\n",
              "      <td>Çorlu</td>\n",
              "      <td>Turkey</td>\n",
              "      <td>40.99N</td>\n",
              "      <td>27.69E</td>\n",
              "    </tr>\n",
              "    <tr>\n",
              "      <th>2</th>\n",
              "      <td>3241</td>\n",
              "      <td>1744-01-01</td>\n",
              "      <td>NaN</td>\n",
              "      <td>NaN</td>\n",
              "      <td>Çorlu</td>\n",
              "      <td>Turkey</td>\n",
              "      <td>40.99N</td>\n",
              "      <td>27.69E</td>\n",
              "    </tr>\n",
              "    <tr>\n",
              "      <th>3</th>\n",
              "      <td>3242</td>\n",
              "      <td>1744-02-01</td>\n",
              "      <td>NaN</td>\n",
              "      <td>NaN</td>\n",
              "      <td>Çorlu</td>\n",
              "      <td>Turkey</td>\n",
              "      <td>40.99N</td>\n",
              "      <td>27.69E</td>\n",
              "    </tr>\n",
              "    <tr>\n",
              "      <th>4</th>\n",
              "      <td>3243</td>\n",
              "      <td>1744-03-01</td>\n",
              "      <td>NaN</td>\n",
              "      <td>NaN</td>\n",
              "      <td>Çorlu</td>\n",
              "      <td>Turkey</td>\n",
              "      <td>40.99N</td>\n",
              "      <td>27.69E</td>\n",
              "    </tr>\n",
              "    <tr>\n",
              "      <th>...</th>\n",
              "      <td>...</td>\n",
              "      <td>...</td>\n",
              "      <td>...</td>\n",
              "      <td>...</td>\n",
              "      <td>...</td>\n",
              "      <td>...</td>\n",
              "      <td>...</td>\n",
              "      <td>...</td>\n",
              "    </tr>\n",
              "    <tr>\n",
              "      <th>2846732</th>\n",
              "      <td>8589600</td>\n",
              "      <td>2013-05-01</td>\n",
              "      <td>19.473</td>\n",
              "      <td>0.227</td>\n",
              "      <td>Zunyi</td>\n",
              "      <td>China</td>\n",
              "      <td>28.13N</td>\n",
              "      <td>106.36E</td>\n",
              "    </tr>\n",
              "    <tr>\n",
              "      <th>2846733</th>\n",
              "      <td>8589601</td>\n",
              "      <td>2013-06-01</td>\n",
              "      <td>23.670</td>\n",
              "      <td>0.575</td>\n",
              "      <td>Zunyi</td>\n",
              "      <td>China</td>\n",
              "      <td>28.13N</td>\n",
              "      <td>106.36E</td>\n",
              "    </tr>\n",
              "    <tr>\n",
              "      <th>2846734</th>\n",
              "      <td>8589602</td>\n",
              "      <td>2013-07-01</td>\n",
              "      <td>26.159</td>\n",
              "      <td>0.713</td>\n",
              "      <td>Zunyi</td>\n",
              "      <td>China</td>\n",
              "      <td>28.13N</td>\n",
              "      <td>106.36E</td>\n",
              "    </tr>\n",
              "    <tr>\n",
              "      <th>2846735</th>\n",
              "      <td>8589603</td>\n",
              "      <td>2013-08-01</td>\n",
              "      <td>25.502</td>\n",
              "      <td>0.587</td>\n",
              "      <td>Zunyi</td>\n",
              "      <td>China</td>\n",
              "      <td>28.13N</td>\n",
              "      <td>106.36E</td>\n",
              "    </tr>\n",
              "    <tr>\n",
              "      <th>2846736</th>\n",
              "      <td>8589604</td>\n",
              "      <td>2013-09-01</td>\n",
              "      <td>NaN</td>\n",
              "      <td>NaN</td>\n",
              "      <td>Zunyi</td>\n",
              "      <td>China</td>\n",
              "      <td>28.13N</td>\n",
              "      <td>106.36E</td>\n",
              "    </tr>\n",
              "  </tbody>\n",
              "</table>\n",
              "<p>2830921 rows × 8 columns</p>\n",
              "</div>"
            ],
            "text/plain": [
              "         Unnamed: 0          dt  AverageTemperature  ...  Country Latitude Longitude\n",
              "0              3239  1743-11-01              10.013  ...   Turkey   40.99N    27.69E\n",
              "1              3240  1743-12-01                 NaN  ...   Turkey   40.99N    27.69E\n",
              "2              3241  1744-01-01                 NaN  ...   Turkey   40.99N    27.69E\n",
              "3              3242  1744-02-01                 NaN  ...   Turkey   40.99N    27.69E\n",
              "4              3243  1744-03-01                 NaN  ...   Turkey   40.99N    27.69E\n",
              "...             ...         ...                 ...  ...      ...      ...       ...\n",
              "2846732     8589600  2013-05-01              19.473  ...    China   28.13N   106.36E\n",
              "2846733     8589601  2013-06-01              23.670  ...    China   28.13N   106.36E\n",
              "2846734     8589602  2013-07-01              26.159  ...    China   28.13N   106.36E\n",
              "2846735     8589603  2013-08-01              25.502  ...    China   28.13N   106.36E\n",
              "2846736     8589604  2013-09-01                 NaN  ...    China   28.13N   106.36E\n",
              "\n",
              "[2830921 rows x 8 columns]"
            ]
          },
          "metadata": {
            "tags": []
          },
          "execution_count": 193
        }
      ]
    },
    {
      "cell_type": "code",
      "metadata": {
        "id": "ksbGXKFC1Q4s"
      },
      "source": [
        "Temp = Temp[Temp.Country != 'South Africa']"
      ],
      "execution_count": null,
      "outputs": []
    },
    {
      "cell_type": "code",
      "metadata": {
        "id": "WnL2PUcL1Q7i"
      },
      "source": [
        "Temp = Temp[Temp.Country != 'Taiwan']\n"
      ],
      "execution_count": null,
      "outputs": []
    },
    {
      "cell_type": "code",
      "metadata": {
        "id": "uL4pkmNt1Q-L"
      },
      "source": [
        "Temp = Temp[Temp.Country != 'Czech Republic']\n"
      ],
      "execution_count": null,
      "outputs": []
    },
    {
      "cell_type": "code",
      "metadata": {
        "id": "pXJYCnMc1rbh"
      },
      "source": [
        "Temp = Temp[Temp.Country != 'Slovenia']"
      ],
      "execution_count": null,
      "outputs": []
    },
    {
      "cell_type": "code",
      "metadata": {
        "id": "mbolpPFP16u9"
      },
      "source": [
        "Temp = Temp[Temp.Country != 'Togo']"
      ],
      "execution_count": null,
      "outputs": []
    },
    {
      "cell_type": "code",
      "metadata": {
        "id": "wGNhBlyP19P1"
      },
      "source": [
        "Temp = Temp[Temp.Country != 'Macedonia']"
      ],
      "execution_count": null,
      "outputs": []
    },
    {
      "cell_type": "code",
      "metadata": {
        "id": "Tf89Hak02AKd"
      },
      "source": [
        "Temp = Temp[Temp.Country != 'Bangladesh']"
      ],
      "execution_count": null,
      "outputs": []
    },
    {
      "cell_type": "code",
      "metadata": {
        "id": "kF-pIevz2Gwm"
      },
      "source": [
        "Temp = Temp[Temp.Country != 'El Salvador']"
      ],
      "execution_count": null,
      "outputs": []
    },
    {
      "cell_type": "code",
      "metadata": {
        "id": "NAUriaqr2WMr"
      },
      "source": [
        "Temp = Temp[Temp.Country != 'Mongolia']"
      ],
      "execution_count": null,
      "outputs": []
    },
    {
      "cell_type": "code",
      "metadata": {
        "id": "RVxcK40j2ZVM"
      },
      "source": [
        "Temp = Temp[Temp.Country != 'Sudan']\n",
        "\n"
      ],
      "execution_count": null,
      "outputs": []
    },
    {
      "cell_type": "code",
      "metadata": {
        "id": "ifkTkW7f2lOY"
      },
      "source": [
        "Temp = Temp[Temp.Country != 'Gambia']"
      ],
      "execution_count": null,
      "outputs": []
    },
    {
      "cell_type": "code",
      "metadata": {
        "id": "BMCT5Mi22vpf"
      },
      "source": [
        "Temp = Temp[Temp.Country != 'Lithuania']"
      ],
      "execution_count": null,
      "outputs": []
    },
    {
      "cell_type": "code",
      "metadata": {
        "id": "BIERFM932yX5"
      },
      "source": [
        "Temp = Temp[Temp.Country != 'Latvia']"
      ],
      "execution_count": null,
      "outputs": []
    },
    {
      "cell_type": "code",
      "metadata": {
        "id": "zOZqHK6r20xS"
      },
      "source": [
        "Temp = Temp[Temp.Country != 'Estonia']\n"
      ],
      "execution_count": null,
      "outputs": []
    },
    {
      "cell_type": "code",
      "metadata": {
        "id": "bP7WTrtG23Js"
      },
      "source": [
        "Temp = Temp[Temp.Country != 'Benin']"
      ],
      "execution_count": null,
      "outputs": []
    },
    {
      "cell_type": "code",
      "metadata": {
        "id": "lp9XmpiA3Vpk"
      },
      "source": [
        "Temp = Temp[Temp.Country != 'Gabon']"
      ],
      "execution_count": null,
      "outputs": []
    },
    {
      "cell_type": "code",
      "metadata": {
        "id": "ptZ8D8cm3rhM"
      },
      "source": [
        "Temp = Temp[Temp.Country != 'Djibouti']"
      ],
      "execution_count": null,
      "outputs": []
    },
    {
      "cell_type": "code",
      "metadata": {
        "id": "S_b4RpjF3vAn"
      },
      "source": [
        "Temp = Temp[Temp.Country != 'Tajikistan']"
      ],
      "execution_count": null,
      "outputs": []
    },
    {
      "cell_type": "code",
      "metadata": {
        "id": "KFPq-uq74MgS"
      },
      "source": [
        "Temp = Temp[Temp.Country != 'Eritrea']"
      ],
      "execution_count": null,
      "outputs": []
    },
    {
      "cell_type": "code",
      "metadata": {
        "id": "HdjvZ4uw4T-G"
      },
      "source": [
        "Temp = Temp[Temp.Country != 'Bahrain']"
      ],
      "execution_count": null,
      "outputs": []
    },
    {
      "cell_type": "code",
      "metadata": {
        "id": "r9LyfVez449-"
      },
      "source": [
        "Temp = Temp[Temp.Country != 'Bosnia And Herzegovina']"
      ],
      "execution_count": null,
      "outputs": []
    },
    {
      "cell_type": "code",
      "metadata": {
        "id": "uaoBjBM74aaP"
      },
      "source": [
        "Temp = Temp[Temp.Country != 'Niger']"
      ],
      "execution_count": null,
      "outputs": []
    },
    {
      "cell_type": "code",
      "metadata": {
        "id": "5Y3sdw3d4iyc"
      },
      "source": [
        "Temp = Temp[Temp.Country != 'Equatorial Guinea']"
      ],
      "execution_count": null,
      "outputs": []
    },
    {
      "cell_type": "code",
      "metadata": {
        "id": "ehq09WbM5Hrx"
      },
      "source": [
        "Temp = Temp[Temp.Country != 'Bahamas']"
      ],
      "execution_count": null,
      "outputs": []
    },
    {
      "cell_type": "code",
      "metadata": {
        "id": "wulCHTPK5LO_"
      },
      "source": [
        "Temp = Temp[Temp.Country != 'Croatia']"
      ],
      "execution_count": null,
      "outputs": []
    },
    {
      "cell_type": "code",
      "metadata": {
        "id": "BdO3EoyI5aC3"
      },
      "source": [
        "Temp = Temp[Temp.City != 'Aligarh']"
      ],
      "execution_count": null,
      "outputs": []
    },
    {
      "cell_type": "code",
      "metadata": {
        "id": "56A8Gs7b5vbm"
      },
      "source": [
        "Temp = Temp[Temp.City != 'Alappuzha']\n"
      ],
      "execution_count": null,
      "outputs": []
    },
    {
      "cell_type": "code",
      "metadata": {
        "id": "qeKaFPbG66Z6"
      },
      "source": [
        "Temp = Temp[Temp.City != 'Akola']"
      ],
      "execution_count": null,
      "outputs": []
    },
    {
      "cell_type": "code",
      "metadata": {
        "id": "IA6Yn6j-66gS"
      },
      "source": [
        "Temp = Temp[Temp.City != 'Ajmer']"
      ],
      "execution_count": null,
      "outputs": []
    },
    {
      "cell_type": "code",
      "metadata": {
        "id": "sdiWfcF466c_"
      },
      "source": [
        "Temp = Temp[Temp.City != 'Allahabad']"
      ],
      "execution_count": null,
      "outputs": []
    },
    {
      "cell_type": "code",
      "metadata": {
        "id": "CX208Too6xIP"
      },
      "source": [
        "Temp = Temp[Temp.City != 'Alandur']"
      ],
      "execution_count": null,
      "outputs": []
    },
    {
      "cell_type": "code",
      "metadata": {
        "id": "Z6X6o_xV62L0"
      },
      "source": [
        "Temp = Temp[Temp.City != 'Ambartu']"
      ],
      "execution_count": null,
      "outputs": []
    },
    {
      "cell_type": "code",
      "metadata": {
        "id": "6YWJcPs27JnC"
      },
      "source": [
        "Temp = Temp[Temp.City != 'Ambala']"
      ],
      "execution_count": null,
      "outputs": []
    },
    {
      "cell_type": "code",
      "metadata": {
        "id": "lqd7mGDO7NVK"
      },
      "source": [
        "Temp = Temp[Temp.City != 'Alwar']"
      ],
      "execution_count": null,
      "outputs": []
    },
    {
      "cell_type": "code",
      "metadata": {
        "id": "8b-AWao77QqP"
      },
      "source": [
        "Temp = Temp[Temp.City != 'Aizwal']"
      ],
      "execution_count": null,
      "outputs": []
    },
    {
      "cell_type": "code",
      "metadata": {
        "id": "FJLZn_kl7UJR"
      },
      "source": [
        "Temp = Temp[Temp.City != 'Alanya']"
      ],
      "execution_count": null,
      "outputs": []
    },
    {
      "cell_type": "code",
      "metadata": {
        "id": "sMgVF9am7YxJ"
      },
      "source": [
        "Temp = Temp[Temp.City != 'Aksaray']"
      ],
      "execution_count": null,
      "outputs": []
    },
    {
      "cell_type": "code",
      "metadata": {
        "id": "f0S3cggz7fGZ"
      },
      "source": [
        "Temp = Temp[Temp.City != 'Zunyi']"
      ],
      "execution_count": null,
      "outputs": []
    },
    {
      "cell_type": "code",
      "metadata": {
        "id": "1dnDHnU27jA4"
      },
      "source": [
        "Temp = Temp[Temp.City != 'Altay']"
      ],
      "execution_count": null,
      "outputs": []
    },
    {
      "cell_type": "code",
      "metadata": {
        "id": "EDNkkO7z7l1P"
      },
      "source": [
        "Temp = Temp[Temp.City != 'Aksu']\n"
      ],
      "execution_count": null,
      "outputs": []
    },
    {
      "cell_type": "code",
      "metadata": {
        "id": "8_yXJKXd7p1B"
      },
      "source": [
        "Temp = Temp[Temp.Country != 'Laos']"
      ],
      "execution_count": null,
      "outputs": []
    },
    {
      "cell_type": "code",
      "metadata": {
        "id": "UpHNKXLi7u9V"
      },
      "source": [
        "Temp = Temp[Temp.Country != 'Uganda']"
      ],
      "execution_count": null,
      "outputs": []
    },
    {
      "cell_type": "code",
      "metadata": {
        "id": "cIaUr7MD8Aaz"
      },
      "source": [
        "Temp = Temp[Temp.Country != 'Burundi']"
      ],
      "execution_count": null,
      "outputs": []
    },
    {
      "cell_type": "code",
      "metadata": {
        "id": "3jMZpW-M8HNQ"
      },
      "source": [
        "Temp = Temp[Temp.Country != 'Kazakhstan']\n"
      ],
      "execution_count": null,
      "outputs": []
    },
    {
      "cell_type": "code",
      "metadata": {
        "id": "AH4Z8ZR48KvT"
      },
      "source": [
        "Temp = Temp[Temp.Country != 'Congo']"
      ],
      "execution_count": null,
      "outputs": []
    },
    {
      "cell_type": "code",
      "metadata": {
        "id": "kIQb2YXQ8hGK"
      },
      "source": [
        "Temp = Temp[Temp.Country != 'Jamaica']"
      ],
      "execution_count": null,
      "outputs": []
    },
    {
      "cell_type": "code",
      "metadata": {
        "id": "h1Mcx2sC8yAD"
      },
      "source": [
        "Temp = Temp[Temp.Country != 'Suriname']"
      ],
      "execution_count": null,
      "outputs": []
    },
    {
      "cell_type": "code",
      "metadata": {
        "id": "O21VmtZu87Rm"
      },
      "source": [
        "Temp = Temp[Temp.Country != 'Singapore']"
      ],
      "execution_count": null,
      "outputs": []
    },
    {
      "cell_type": "code",
      "metadata": {
        "id": "3Xpv0PXO9CIq"
      },
      "source": [
        "Temp = Temp[Temp.Country != 'Hong Kong']"
      ],
      "execution_count": null,
      "outputs": []
    },
    {
      "cell_type": "code",
      "metadata": {
        "id": "9OJqTr7K9NOF"
      },
      "source": [
        "Temp = Temp[Temp.Country != 'Swaziland']"
      ],
      "execution_count": null,
      "outputs": []
    },
    {
      "cell_type": "code",
      "metadata": {
        "id": "1hRbLEF89O8w",
        "colab": {
          "base_uri": "https://localhost:8080/",
          "height": 606
        },
        "outputId": "370f0bbe-c488-4878-a076-9af798aa23ee"
      },
      "source": [
        "Temp = Temp[Temp.Country != 'Saudi Arabia']\n",
        "Temp"
      ],
      "execution_count": null,
      "outputs": [
        {
          "output_type": "execute_result",
          "data": {
            "text/html": [
              "<div>\n",
              "<style scoped>\n",
              "    .dataframe tbody tr th:only-of-type {\n",
              "        vertical-align: middle;\n",
              "    }\n",
              "\n",
              "    .dataframe tbody tr th {\n",
              "        vertical-align: top;\n",
              "    }\n",
              "\n",
              "    .dataframe thead th {\n",
              "        text-align: right;\n",
              "    }\n",
              "</style>\n",
              "<table border=\"1\" class=\"dataframe\">\n",
              "  <thead>\n",
              "    <tr style=\"text-align: right;\">\n",
              "      <th></th>\n",
              "      <th>Unnamed: 0</th>\n",
              "      <th>dt</th>\n",
              "      <th>AverageTemperature</th>\n",
              "      <th>AverageTemperatureUncertainty</th>\n",
              "      <th>City</th>\n",
              "      <th>Country</th>\n",
              "      <th>Latitude</th>\n",
              "      <th>Longitude</th>\n",
              "    </tr>\n",
              "  </thead>\n",
              "  <tbody>\n",
              "    <tr>\n",
              "      <th>0</th>\n",
              "      <td>3239</td>\n",
              "      <td>1743-11-01</td>\n",
              "      <td>10.013</td>\n",
              "      <td>2.291</td>\n",
              "      <td>Çorlu</td>\n",
              "      <td>Turkey</td>\n",
              "      <td>40.99N</td>\n",
              "      <td>27.69E</td>\n",
              "    </tr>\n",
              "    <tr>\n",
              "      <th>1</th>\n",
              "      <td>3240</td>\n",
              "      <td>1743-12-01</td>\n",
              "      <td>NaN</td>\n",
              "      <td>NaN</td>\n",
              "      <td>Çorlu</td>\n",
              "      <td>Turkey</td>\n",
              "      <td>40.99N</td>\n",
              "      <td>27.69E</td>\n",
              "    </tr>\n",
              "    <tr>\n",
              "      <th>2</th>\n",
              "      <td>3241</td>\n",
              "      <td>1744-01-01</td>\n",
              "      <td>NaN</td>\n",
              "      <td>NaN</td>\n",
              "      <td>Çorlu</td>\n",
              "      <td>Turkey</td>\n",
              "      <td>40.99N</td>\n",
              "      <td>27.69E</td>\n",
              "    </tr>\n",
              "    <tr>\n",
              "      <th>3</th>\n",
              "      <td>3242</td>\n",
              "      <td>1744-02-01</td>\n",
              "      <td>NaN</td>\n",
              "      <td>NaN</td>\n",
              "      <td>Çorlu</td>\n",
              "      <td>Turkey</td>\n",
              "      <td>40.99N</td>\n",
              "      <td>27.69E</td>\n",
              "    </tr>\n",
              "    <tr>\n",
              "      <th>4</th>\n",
              "      <td>3243</td>\n",
              "      <td>1744-03-01</td>\n",
              "      <td>NaN</td>\n",
              "      <td>NaN</td>\n",
              "      <td>Çorlu</td>\n",
              "      <td>Turkey</td>\n",
              "      <td>40.99N</td>\n",
              "      <td>27.69E</td>\n",
              "    </tr>\n",
              "    <tr>\n",
              "      <th>...</th>\n",
              "      <td>...</td>\n",
              "      <td>...</td>\n",
              "      <td>...</td>\n",
              "      <td>...</td>\n",
              "      <td>...</td>\n",
              "      <td>...</td>\n",
              "      <td>...</td>\n",
              "      <td>...</td>\n",
              "    </tr>\n",
              "    <tr>\n",
              "      <th>2844647</th>\n",
              "      <td>8587515</td>\n",
              "      <td>2013-05-01</td>\n",
              "      <td>21.306</td>\n",
              "      <td>0.439</td>\n",
              "      <td>Zouxian</td>\n",
              "      <td>China</td>\n",
              "      <td>36.17N</td>\n",
              "      <td>117.35E</td>\n",
              "    </tr>\n",
              "    <tr>\n",
              "      <th>2844648</th>\n",
              "      <td>8587516</td>\n",
              "      <td>2013-06-01</td>\n",
              "      <td>24.749</td>\n",
              "      <td>0.264</td>\n",
              "      <td>Zouxian</td>\n",
              "      <td>China</td>\n",
              "      <td>36.17N</td>\n",
              "      <td>117.35E</td>\n",
              "    </tr>\n",
              "    <tr>\n",
              "      <th>2844649</th>\n",
              "      <td>8587517</td>\n",
              "      <td>2013-07-01</td>\n",
              "      <td>27.627</td>\n",
              "      <td>1.035</td>\n",
              "      <td>Zouxian</td>\n",
              "      <td>China</td>\n",
              "      <td>36.17N</td>\n",
              "      <td>117.35E</td>\n",
              "    </tr>\n",
              "    <tr>\n",
              "      <th>2844650</th>\n",
              "      <td>8587518</td>\n",
              "      <td>2013-08-01</td>\n",
              "      <td>27.978</td>\n",
              "      <td>0.704</td>\n",
              "      <td>Zouxian</td>\n",
              "      <td>China</td>\n",
              "      <td>36.17N</td>\n",
              "      <td>117.35E</td>\n",
              "    </tr>\n",
              "    <tr>\n",
              "      <th>2844651</th>\n",
              "      <td>8587519</td>\n",
              "      <td>2013-09-01</td>\n",
              "      <td>NaN</td>\n",
              "      <td>NaN</td>\n",
              "      <td>Zouxian</td>\n",
              "      <td>China</td>\n",
              "      <td>36.17N</td>\n",
              "      <td>117.35E</td>\n",
              "    </tr>\n",
              "  </tbody>\n",
              "</table>\n",
              "<p>2483531 rows × 8 columns</p>\n",
              "</div>"
            ],
            "text/plain": [
              "         Unnamed: 0          dt  AverageTemperature  ...  Country Latitude Longitude\n",
              "0              3239  1743-11-01              10.013  ...   Turkey   40.99N    27.69E\n",
              "1              3240  1743-12-01                 NaN  ...   Turkey   40.99N    27.69E\n",
              "2              3241  1744-01-01                 NaN  ...   Turkey   40.99N    27.69E\n",
              "3              3242  1744-02-01                 NaN  ...   Turkey   40.99N    27.69E\n",
              "4              3243  1744-03-01                 NaN  ...   Turkey   40.99N    27.69E\n",
              "...             ...         ...                 ...  ...      ...      ...       ...\n",
              "2844647     8587515  2013-05-01              21.306  ...    China   36.17N   117.35E\n",
              "2844648     8587516  2013-06-01              24.749  ...    China   36.17N   117.35E\n",
              "2844649     8587517  2013-07-01              27.627  ...    China   36.17N   117.35E\n",
              "2844650     8587518  2013-08-01              27.978  ...    China   36.17N   117.35E\n",
              "2844651     8587519  2013-09-01                 NaN  ...    China   36.17N   117.35E\n",
              "\n",
              "[2483531 rows x 8 columns]"
            ]
          },
          "metadata": {
            "tags": []
          },
          "execution_count": 244
        }
      ]
    },
    {
      "cell_type": "code",
      "metadata": {
        "id": "gR0G-LFiAaAC",
        "colab": {
          "base_uri": "https://localhost:8080/",
          "height": 252
        },
        "outputId": "2e05a73b-e64b-44f0-8368-e4f51471c76f"
      },
      "source": [
        "Temp.to_csv(r'C:\\Users\\surfb\\OneDrive\\Desktop\\Temp_C2.csv', header=True)\n",
        "print (Temp)"
      ],
      "execution_count": null,
      "outputs": [
        {
          "output_type": "stream",
          "text": [
            "         Unnamed: 0          dt  AverageTemperature  ...  Country Latitude Longitude\n",
            "0              3239  1743-11-01              10.013  ...   Turkey   40.99N    27.69E\n",
            "1              3240  1743-12-01                 NaN  ...   Turkey   40.99N    27.69E\n",
            "2              3241  1744-01-01                 NaN  ...   Turkey   40.99N    27.69E\n",
            "3              3242  1744-02-01                 NaN  ...   Turkey   40.99N    27.69E\n",
            "4              3243  1744-03-01                 NaN  ...   Turkey   40.99N    27.69E\n",
            "...             ...         ...                 ...  ...      ...      ...       ...\n",
            "2844647     8587515  2013-05-01              21.306  ...    China   36.17N   117.35E\n",
            "2844648     8587516  2013-06-01              24.749  ...    China   36.17N   117.35E\n",
            "2844649     8587517  2013-07-01              27.627  ...    China   36.17N   117.35E\n",
            "2844650     8587518  2013-08-01              27.978  ...    China   36.17N   117.35E\n",
            "2844651     8587519  2013-09-01                 NaN  ...    China   36.17N   117.35E\n",
            "\n",
            "[2483531 rows x 8 columns]\n"
          ],
          "name": "stdout"
        }
      ]
    },
    {
      "cell_type": "code",
      "metadata": {
        "id": "v-uAEDU0CG72",
        "colab": {
          "base_uri": "https://localhost:8080/",
          "height": 402
        },
        "outputId": "b0d6d930-eb05-4c5e-8f85-e1843a82f9e8"
      },
      "source": [
        "Temp.dropna()"
      ],
      "execution_count": null,
      "outputs": [
        {
          "output_type": "execute_result",
          "data": {
            "text/html": [
              "<div>\n",
              "<style scoped>\n",
              "    .dataframe tbody tr th:only-of-type {\n",
              "        vertical-align: middle;\n",
              "    }\n",
              "\n",
              "    .dataframe tbody tr th {\n",
              "        vertical-align: top;\n",
              "    }\n",
              "\n",
              "    .dataframe thead th {\n",
              "        text-align: right;\n",
              "    }\n",
              "</style>\n",
              "<table border=\"1\" class=\"dataframe\">\n",
              "  <thead>\n",
              "    <tr style=\"text-align: right;\">\n",
              "      <th></th>\n",
              "      <th>Unnamed: 0</th>\n",
              "      <th>dt</th>\n",
              "      <th>AverageTemperature</th>\n",
              "      <th>AverageTemperatureUncertainty</th>\n",
              "      <th>City</th>\n",
              "      <th>Country</th>\n",
              "      <th>Latitude</th>\n",
              "      <th>Longitude</th>\n",
              "    </tr>\n",
              "  </thead>\n",
              "  <tbody>\n",
              "    <tr>\n",
              "      <th>0</th>\n",
              "      <td>3239</td>\n",
              "      <td>1743-11-01</td>\n",
              "      <td>10.013</td>\n",
              "      <td>2.291</td>\n",
              "      <td>Çorlu</td>\n",
              "      <td>Turkey</td>\n",
              "      <td>40.99N</td>\n",
              "      <td>27.69E</td>\n",
              "    </tr>\n",
              "    <tr>\n",
              "      <th>5</th>\n",
              "      <td>3244</td>\n",
              "      <td>1744-04-01</td>\n",
              "      <td>13.685</td>\n",
              "      <td>2.162</td>\n",
              "      <td>Çorlu</td>\n",
              "      <td>Turkey</td>\n",
              "      <td>40.99N</td>\n",
              "      <td>27.69E</td>\n",
              "    </tr>\n",
              "    <tr>\n",
              "      <th>6</th>\n",
              "      <td>3245</td>\n",
              "      <td>1744-05-01</td>\n",
              "      <td>15.021</td>\n",
              "      <td>1.824</td>\n",
              "      <td>Çorlu</td>\n",
              "      <td>Turkey</td>\n",
              "      <td>40.99N</td>\n",
              "      <td>27.69E</td>\n",
              "    </tr>\n",
              "    <tr>\n",
              "      <th>7</th>\n",
              "      <td>3246</td>\n",
              "      <td>1744-06-01</td>\n",
              "      <td>19.663</td>\n",
              "      <td>1.701</td>\n",
              "      <td>Çorlu</td>\n",
              "      <td>Turkey</td>\n",
              "      <td>40.99N</td>\n",
              "      <td>27.69E</td>\n",
              "    </tr>\n",
              "    <tr>\n",
              "      <th>8</th>\n",
              "      <td>3247</td>\n",
              "      <td>1744-07-01</td>\n",
              "      <td>22.314</td>\n",
              "      <td>1.648</td>\n",
              "      <td>Çorlu</td>\n",
              "      <td>Turkey</td>\n",
              "      <td>40.99N</td>\n",
              "      <td>27.69E</td>\n",
              "    </tr>\n",
              "    <tr>\n",
              "      <th>...</th>\n",
              "      <td>...</td>\n",
              "      <td>...</td>\n",
              "      <td>...</td>\n",
              "      <td>...</td>\n",
              "      <td>...</td>\n",
              "      <td>...</td>\n",
              "      <td>...</td>\n",
              "      <td>...</td>\n",
              "    </tr>\n",
              "    <tr>\n",
              "      <th>2844646</th>\n",
              "      <td>8587514</td>\n",
              "      <td>2013-04-01</td>\n",
              "      <td>13.517</td>\n",
              "      <td>0.252</td>\n",
              "      <td>Zouxian</td>\n",
              "      <td>China</td>\n",
              "      <td>36.17N</td>\n",
              "      <td>117.35E</td>\n",
              "    </tr>\n",
              "    <tr>\n",
              "      <th>2844647</th>\n",
              "      <td>8587515</td>\n",
              "      <td>2013-05-01</td>\n",
              "      <td>21.306</td>\n",
              "      <td>0.439</td>\n",
              "      <td>Zouxian</td>\n",
              "      <td>China</td>\n",
              "      <td>36.17N</td>\n",
              "      <td>117.35E</td>\n",
              "    </tr>\n",
              "    <tr>\n",
              "      <th>2844648</th>\n",
              "      <td>8587516</td>\n",
              "      <td>2013-06-01</td>\n",
              "      <td>24.749</td>\n",
              "      <td>0.264</td>\n",
              "      <td>Zouxian</td>\n",
              "      <td>China</td>\n",
              "      <td>36.17N</td>\n",
              "      <td>117.35E</td>\n",
              "    </tr>\n",
              "    <tr>\n",
              "      <th>2844649</th>\n",
              "      <td>8587517</td>\n",
              "      <td>2013-07-01</td>\n",
              "      <td>27.627</td>\n",
              "      <td>1.035</td>\n",
              "      <td>Zouxian</td>\n",
              "      <td>China</td>\n",
              "      <td>36.17N</td>\n",
              "      <td>117.35E</td>\n",
              "    </tr>\n",
              "    <tr>\n",
              "      <th>2844650</th>\n",
              "      <td>8587518</td>\n",
              "      <td>2013-08-01</td>\n",
              "      <td>27.978</td>\n",
              "      <td>0.704</td>\n",
              "      <td>Zouxian</td>\n",
              "      <td>China</td>\n",
              "      <td>36.17N</td>\n",
              "      <td>117.35E</td>\n",
              "    </tr>\n",
              "  </tbody>\n",
              "</table>\n",
              "<p>2387195 rows × 8 columns</p>\n",
              "</div>"
            ],
            "text/plain": [
              "         Unnamed: 0          dt  AverageTemperature  ...  Country Latitude Longitude\n",
              "0              3239  1743-11-01              10.013  ...   Turkey   40.99N    27.69E\n",
              "5              3244  1744-04-01              13.685  ...   Turkey   40.99N    27.69E\n",
              "6              3245  1744-05-01              15.021  ...   Turkey   40.99N    27.69E\n",
              "7              3246  1744-06-01              19.663  ...   Turkey   40.99N    27.69E\n",
              "8              3247  1744-07-01              22.314  ...   Turkey   40.99N    27.69E\n",
              "...             ...         ...                 ...  ...      ...      ...       ...\n",
              "2844646     8587514  2013-04-01              13.517  ...    China   36.17N   117.35E\n",
              "2844647     8587515  2013-05-01              21.306  ...    China   36.17N   117.35E\n",
              "2844648     8587516  2013-06-01              24.749  ...    China   36.17N   117.35E\n",
              "2844649     8587517  2013-07-01              27.627  ...    China   36.17N   117.35E\n",
              "2844650     8587518  2013-08-01              27.978  ...    China   36.17N   117.35E\n",
              "\n",
              "[2387195 rows x 8 columns]"
            ]
          },
          "metadata": {
            "tags": []
          },
          "execution_count": 246
        }
      ]
    },
    {
      "cell_type": "code",
      "metadata": {
        "id": "-BfXQ8f_Eld7",
        "colab": {
          "base_uri": "https://localhost:8080/",
          "height": 935
        },
        "outputId": "d3cc40b8-e955-40b9-f6c7-21d2f9d22b61"
      },
      "source": [
        "Temp.sample(30)"
      ],
      "execution_count": null,
      "outputs": [
        {
          "output_type": "execute_result",
          "data": {
            "text/html": [
              "<div>\n",
              "<style scoped>\n",
              "    .dataframe tbody tr th:only-of-type {\n",
              "        vertical-align: middle;\n",
              "    }\n",
              "\n",
              "    .dataframe tbody tr th {\n",
              "        vertical-align: top;\n",
              "    }\n",
              "\n",
              "    .dataframe thead th {\n",
              "        text-align: right;\n",
              "    }\n",
              "</style>\n",
              "<table border=\"1\" class=\"dataframe\">\n",
              "  <thead>\n",
              "    <tr style=\"text-align: right;\">\n",
              "      <th></th>\n",
              "      <th>Unnamed: 0</th>\n",
              "      <th>dt</th>\n",
              "      <th>AverageTemperature</th>\n",
              "      <th>AverageTemperatureUncertainty</th>\n",
              "      <th>City</th>\n",
              "      <th>Country</th>\n",
              "      <th>Latitude</th>\n",
              "      <th>Longitude</th>\n",
              "    </tr>\n",
              "  </thead>\n",
              "  <tbody>\n",
              "    <tr>\n",
              "      <th>2357341</th>\n",
              "      <td>7284431</td>\n",
              "      <td>1915-11-01</td>\n",
              "      <td>9.002</td>\n",
              "      <td>0.373</td>\n",
              "      <td>Suzhou</td>\n",
              "      <td>China</td>\n",
              "      <td>34.56N</td>\n",
              "      <td>116.76E</td>\n",
              "    </tr>\n",
              "    <tr>\n",
              "      <th>1212067</th>\n",
              "      <td>3463333</td>\n",
              "      <td>1921-02-01</td>\n",
              "      <td>16.483</td>\n",
              "      <td>0.394</td>\n",
              "      <td>Jind</td>\n",
              "      <td>India</td>\n",
              "      <td>29.74N</td>\n",
              "      <td>75.69E</td>\n",
              "    </tr>\n",
              "    <tr>\n",
              "      <th>2676594</th>\n",
              "      <td>8327943</td>\n",
              "      <td>1872-08-01</td>\n",
              "      <td>18.882</td>\n",
              "      <td>1.639</td>\n",
              "      <td>Xuanhua</td>\n",
              "      <td>China</td>\n",
              "      <td>40.99N</td>\n",
              "      <td>115.03E</td>\n",
              "    </tr>\n",
              "    <tr>\n",
              "      <th>2725968</th>\n",
              "      <td>8404517</td>\n",
              "      <td>1873-10-01</td>\n",
              "      <td>2.181</td>\n",
              "      <td>1.712</td>\n",
              "      <td>Yichun</td>\n",
              "      <td>China</td>\n",
              "      <td>47.42N</td>\n",
              "      <td>129.08E</td>\n",
              "    </tr>\n",
              "    <tr>\n",
              "      <th>1298450</th>\n",
              "      <td>3641984</td>\n",
              "      <td>1929-06-01</td>\n",
              "      <td>29.788</td>\n",
              "      <td>0.306</td>\n",
              "      <td>Kapra</td>\n",
              "      <td>India</td>\n",
              "      <td>16.87N</td>\n",
              "      <td>78.70E</td>\n",
              "    </tr>\n",
              "    <tr>\n",
              "      <th>512632</th>\n",
              "      <td>1479495</td>\n",
              "      <td>1852-05-01</td>\n",
              "      <td>30.327</td>\n",
              "      <td>1.953</td>\n",
              "      <td>Chas</td>\n",
              "      <td>India</td>\n",
              "      <td>23.31N</td>\n",
              "      <td>86.50E</td>\n",
              "    </tr>\n",
              "    <tr>\n",
              "      <th>522330</th>\n",
              "      <td>1510808</td>\n",
              "      <td>1927-12-01</td>\n",
              "      <td>9.305</td>\n",
              "      <td>0.566</td>\n",
              "      <td>Chenzhou</td>\n",
              "      <td>China</td>\n",
              "      <td>26.52N</td>\n",
              "      <td>112.84E</td>\n",
              "    </tr>\n",
              "    <tr>\n",
              "      <th>2822347</th>\n",
              "      <td>8549452</td>\n",
              "      <td>1999-07-01</td>\n",
              "      <td>26.129</td>\n",
              "      <td>0.335</td>\n",
              "      <td>Zhucheng</td>\n",
              "      <td>China</td>\n",
              "      <td>36.17N</td>\n",
              "      <td>119.34E</td>\n",
              "    </tr>\n",
              "    <tr>\n",
              "      <th>751631</th>\n",
              "      <td>2298757</td>\n",
              "      <td>1864-01-01</td>\n",
              "      <td>NaN</td>\n",
              "      <td>NaN</td>\n",
              "      <td>Faizabad</td>\n",
              "      <td>India</td>\n",
              "      <td>26.52N</td>\n",
              "      <td>82.39E</td>\n",
              "    </tr>\n",
              "    <tr>\n",
              "      <th>2547373</th>\n",
              "      <td>7958525</td>\n",
              "      <td>1840-09-01</td>\n",
              "      <td>20.465</td>\n",
              "      <td>1.459</td>\n",
              "      <td>Van</td>\n",
              "      <td>Turkey</td>\n",
              "      <td>37.78N</td>\n",
              "      <td>42.71E</td>\n",
              "    </tr>\n",
              "    <tr>\n",
              "      <th>1358607</th>\n",
              "      <td>3771163</td>\n",
              "      <td>1797-11-01</td>\n",
              "      <td>22.334</td>\n",
              "      <td>1.793</td>\n",
              "      <td>Kharagpur</td>\n",
              "      <td>India</td>\n",
              "      <td>21.70N</td>\n",
              "      <td>87.40E</td>\n",
              "    </tr>\n",
              "    <tr>\n",
              "      <th>1659730</th>\n",
              "      <td>4773768</td>\n",
              "      <td>1879-08-01</td>\n",
              "      <td>25.886</td>\n",
              "      <td>0.764</td>\n",
              "      <td>Mersin</td>\n",
              "      <td>Turkey</td>\n",
              "      <td>36.17N</td>\n",
              "      <td>33.81E</td>\n",
              "    </tr>\n",
              "    <tr>\n",
              "      <th>2400081</th>\n",
              "      <td>7442063</td>\n",
              "      <td>2002-09-01</td>\n",
              "      <td>19.029</td>\n",
              "      <td>0.168</td>\n",
              "      <td>Tangshan</td>\n",
              "      <td>China</td>\n",
              "      <td>37.78N</td>\n",
              "      <td>113.90E</td>\n",
              "    </tr>\n",
              "    <tr>\n",
              "      <th>1939625</th>\n",
              "      <td>5984435</td>\n",
              "      <td>1888-01-01</td>\n",
              "      <td>12.727</td>\n",
              "      <td>1.054</td>\n",
              "      <td>Port Said</td>\n",
              "      <td>Egypt</td>\n",
              "      <td>31.35N</td>\n",
              "      <td>32.04E</td>\n",
              "    </tr>\n",
              "    <tr>\n",
              "      <th>2504993</th>\n",
              "      <td>7799671</td>\n",
              "      <td>1876-10-01</td>\n",
              "      <td>24.562</td>\n",
              "      <td>1.156</td>\n",
              "      <td>Tumkur</td>\n",
              "      <td>India</td>\n",
              "      <td>13.66N</td>\n",
              "      <td>76.79E</td>\n",
              "    </tr>\n",
              "    <tr>\n",
              "      <th>1275763</th>\n",
              "      <td>3599418</td>\n",
              "      <td>1991-03-01</td>\n",
              "      <td>19.760</td>\n",
              "      <td>0.971</td>\n",
              "      <td>Kamalia</td>\n",
              "      <td>Pakistan</td>\n",
              "      <td>31.35N</td>\n",
              "      <td>73.51E</td>\n",
              "    </tr>\n",
              "    <tr>\n",
              "      <th>2442882</th>\n",
              "      <td>7568230</td>\n",
              "      <td>1801-04-01</td>\n",
              "      <td>NaN</td>\n",
              "      <td>NaN</td>\n",
              "      <td>Thanesar</td>\n",
              "      <td>India</td>\n",
              "      <td>29.74N</td>\n",
              "      <td>77.54E</td>\n",
              "    </tr>\n",
              "    <tr>\n",
              "      <th>1627949</th>\n",
              "      <td>4647534</td>\n",
              "      <td>1900-03-01</td>\n",
              "      <td>3.206</td>\n",
              "      <td>1.200</td>\n",
              "      <td>Maragheh</td>\n",
              "      <td>Iran</td>\n",
              "      <td>37.78N</td>\n",
              "      <td>46.78E</td>\n",
              "    </tr>\n",
              "    <tr>\n",
              "      <th>502509</th>\n",
              "      <td>1455197</td>\n",
              "      <td>1937-12-01</td>\n",
              "      <td>-13.360</td>\n",
              "      <td>1.222</td>\n",
              "      <td>Changji</td>\n",
              "      <td>China</td>\n",
              "      <td>44.20N</td>\n",
              "      <td>87.20E</td>\n",
              "    </tr>\n",
              "    <tr>\n",
              "      <th>882511</th>\n",
              "      <td>2735004</td>\n",
              "      <td>1798-10-01</td>\n",
              "      <td>25.081</td>\n",
              "      <td>2.302</td>\n",
              "      <td>Guna</td>\n",
              "      <td>India</td>\n",
              "      <td>24.92N</td>\n",
              "      <td>78.03E</td>\n",
              "    </tr>\n",
              "    <tr>\n",
              "      <th>924847</th>\n",
              "      <td>2812520</td>\n",
              "      <td>1922-08-01</td>\n",
              "      <td>28.222</td>\n",
              "      <td>0.274</td>\n",
              "      <td>Haimen</td>\n",
              "      <td>China</td>\n",
              "      <td>23.31N</td>\n",
              "      <td>116.21E</td>\n",
              "    </tr>\n",
              "    <tr>\n",
              "      <th>171378</th>\n",
              "      <td>443867</td>\n",
              "      <td>1931-12-01</td>\n",
              "      <td>14.162</td>\n",
              "      <td>0.302</td>\n",
              "      <td>Ashqelon</td>\n",
              "      <td>Israel</td>\n",
              "      <td>31.35N</td>\n",
              "      <td>33.93E</td>\n",
              "    </tr>\n",
              "    <tr>\n",
              "      <th>2430885</th>\n",
              "      <td>7523470</td>\n",
              "      <td>2010-01-01</td>\n",
              "      <td>15.957</td>\n",
              "      <td>0.445</td>\n",
              "      <td>Tel Aviv Yafo</td>\n",
              "      <td>Israel</td>\n",
              "      <td>31.35N</td>\n",
              "      <td>33.93E</td>\n",
              "    </tr>\n",
              "    <tr>\n",
              "      <th>1261445</th>\n",
              "      <td>3559480</td>\n",
              "      <td>1846-06-01</td>\n",
              "      <td>33.787</td>\n",
              "      <td>2.128</td>\n",
              "      <td>Kaithal</td>\n",
              "      <td>India</td>\n",
              "      <td>29.74N</td>\n",
              "      <td>75.69E</td>\n",
              "    </tr>\n",
              "    <tr>\n",
              "      <th>1661370</th>\n",
              "      <td>4805365</td>\n",
              "      <td>1814-07-01</td>\n",
              "      <td>23.497</td>\n",
              "      <td>1.840</td>\n",
              "      <td>Miandoab</td>\n",
              "      <td>Iran</td>\n",
              "      <td>36.17N</td>\n",
              "      <td>45.75E</td>\n",
              "    </tr>\n",
              "    <tr>\n",
              "      <th>1220429</th>\n",
              "      <td>3471695</td>\n",
              "      <td>1906-07-01</td>\n",
              "      <td>18.942</td>\n",
              "      <td>0.609</td>\n",
              "      <td>Jining</td>\n",
              "      <td>China</td>\n",
              "      <td>40.99N</td>\n",
              "      <td>112.90E</td>\n",
              "    </tr>\n",
              "    <tr>\n",
              "      <th>1743994</th>\n",
              "      <td>5094293</td>\n",
              "      <td>1924-09-01</td>\n",
              "      <td>26.411</td>\n",
              "      <td>0.382</td>\n",
              "      <td>Nanded</td>\n",
              "      <td>India</td>\n",
              "      <td>18.48N</td>\n",
              "      <td>77.75E</td>\n",
              "    </tr>\n",
              "    <tr>\n",
              "      <th>1637747</th>\n",
              "      <td>4676810</td>\n",
              "      <td>1958-02-01</td>\n",
              "      <td>5.343</td>\n",
              "      <td>0.505</td>\n",
              "      <td>Marv Dasht</td>\n",
              "      <td>Iran</td>\n",
              "      <td>29.74N</td>\n",
              "      <td>53.54E</td>\n",
              "    </tr>\n",
              "    <tr>\n",
              "      <th>532787</th>\n",
              "      <td>1549759</td>\n",
              "      <td>1952-12-01</td>\n",
              "      <td>-12.647</td>\n",
              "      <td>0.235</td>\n",
              "      <td>Chifeng</td>\n",
              "      <td>China</td>\n",
              "      <td>42.59N</td>\n",
              "      <td>120.00E</td>\n",
              "    </tr>\n",
              "    <tr>\n",
              "      <th>1204406</th>\n",
              "      <td>3455672</td>\n",
              "      <td>1847-03-01</td>\n",
              "      <td>6.101</td>\n",
              "      <td>2.812</td>\n",
              "      <td>Jinan</td>\n",
              "      <td>China</td>\n",
              "      <td>36.17N</td>\n",
              "      <td>117.35E</td>\n",
              "    </tr>\n",
              "  </tbody>\n",
              "</table>\n",
              "</div>"
            ],
            "text/plain": [
              "         Unnamed: 0          dt  ...  Latitude  Longitude\n",
              "2357341     7284431  1915-11-01  ...    34.56N    116.76E\n",
              "1212067     3463333  1921-02-01  ...    29.74N     75.69E\n",
              "2676594     8327943  1872-08-01  ...    40.99N    115.03E\n",
              "2725968     8404517  1873-10-01  ...    47.42N    129.08E\n",
              "1298450     3641984  1929-06-01  ...    16.87N     78.70E\n",
              "512632      1479495  1852-05-01  ...    23.31N     86.50E\n",
              "522330      1510808  1927-12-01  ...    26.52N    112.84E\n",
              "2822347     8549452  1999-07-01  ...    36.17N    119.34E\n",
              "751631      2298757  1864-01-01  ...    26.52N     82.39E\n",
              "2547373     7958525  1840-09-01  ...    37.78N     42.71E\n",
              "1358607     3771163  1797-11-01  ...    21.70N     87.40E\n",
              "1659730     4773768  1879-08-01  ...    36.17N     33.81E\n",
              "2400081     7442063  2002-09-01  ...    37.78N    113.90E\n",
              "1939625     5984435  1888-01-01  ...    31.35N     32.04E\n",
              "2504993     7799671  1876-10-01  ...    13.66N     76.79E\n",
              "1275763     3599418  1991-03-01  ...    31.35N     73.51E\n",
              "2442882     7568230  1801-04-01  ...    29.74N     77.54E\n",
              "1627949     4647534  1900-03-01  ...    37.78N     46.78E\n",
              "502509      1455197  1937-12-01  ...    44.20N     87.20E\n",
              "882511      2735004  1798-10-01  ...    24.92N     78.03E\n",
              "924847      2812520  1922-08-01  ...    23.31N    116.21E\n",
              "171378       443867  1931-12-01  ...    31.35N     33.93E\n",
              "2430885     7523470  2010-01-01  ...    31.35N     33.93E\n",
              "1261445     3559480  1846-06-01  ...    29.74N     75.69E\n",
              "1661370     4805365  1814-07-01  ...    36.17N     45.75E\n",
              "1220429     3471695  1906-07-01  ...    40.99N    112.90E\n",
              "1743994     5094293  1924-09-01  ...    18.48N     77.75E\n",
              "1637747     4676810  1958-02-01  ...    29.74N     53.54E\n",
              "532787      1549759  1952-12-01  ...    42.59N    120.00E\n",
              "1204406     3455672  1847-03-01  ...    36.17N    117.35E\n",
              "\n",
              "[30 rows x 8 columns]"
            ]
          },
          "metadata": {
            "tags": []
          },
          "execution_count": 247
        }
      ]
    },
    {
      "cell_type": "code",
      "metadata": {
        "id": "huq9byBCEo9f",
        "colab": {
          "base_uri": "https://localhost:8080/",
          "height": 402
        },
        "outputId": "329703c7-f7e3-43f6-a246-44dd287799ff"
      },
      "source": [
        "Temp.drop(['Unnamed: 0', 'AverageTemperatureUncertainty'], axis=1)"
      ],
      "execution_count": null,
      "outputs": [
        {
          "output_type": "execute_result",
          "data": {
            "text/html": [
              "<div>\n",
              "<style scoped>\n",
              "    .dataframe tbody tr th:only-of-type {\n",
              "        vertical-align: middle;\n",
              "    }\n",
              "\n",
              "    .dataframe tbody tr th {\n",
              "        vertical-align: top;\n",
              "    }\n",
              "\n",
              "    .dataframe thead th {\n",
              "        text-align: right;\n",
              "    }\n",
              "</style>\n",
              "<table border=\"1\" class=\"dataframe\">\n",
              "  <thead>\n",
              "    <tr style=\"text-align: right;\">\n",
              "      <th></th>\n",
              "      <th>dt</th>\n",
              "      <th>AverageTemperature</th>\n",
              "      <th>City</th>\n",
              "      <th>Country</th>\n",
              "      <th>Latitude</th>\n",
              "      <th>Longitude</th>\n",
              "    </tr>\n",
              "  </thead>\n",
              "  <tbody>\n",
              "    <tr>\n",
              "      <th>0</th>\n",
              "      <td>1743-11-01</td>\n",
              "      <td>10.013</td>\n",
              "      <td>Çorlu</td>\n",
              "      <td>Turkey</td>\n",
              "      <td>40.99N</td>\n",
              "      <td>27.69E</td>\n",
              "    </tr>\n",
              "    <tr>\n",
              "      <th>1</th>\n",
              "      <td>1743-12-01</td>\n",
              "      <td>NaN</td>\n",
              "      <td>Çorlu</td>\n",
              "      <td>Turkey</td>\n",
              "      <td>40.99N</td>\n",
              "      <td>27.69E</td>\n",
              "    </tr>\n",
              "    <tr>\n",
              "      <th>2</th>\n",
              "      <td>1744-01-01</td>\n",
              "      <td>NaN</td>\n",
              "      <td>Çorlu</td>\n",
              "      <td>Turkey</td>\n",
              "      <td>40.99N</td>\n",
              "      <td>27.69E</td>\n",
              "    </tr>\n",
              "    <tr>\n",
              "      <th>3</th>\n",
              "      <td>1744-02-01</td>\n",
              "      <td>NaN</td>\n",
              "      <td>Çorlu</td>\n",
              "      <td>Turkey</td>\n",
              "      <td>40.99N</td>\n",
              "      <td>27.69E</td>\n",
              "    </tr>\n",
              "    <tr>\n",
              "      <th>4</th>\n",
              "      <td>1744-03-01</td>\n",
              "      <td>NaN</td>\n",
              "      <td>Çorlu</td>\n",
              "      <td>Turkey</td>\n",
              "      <td>40.99N</td>\n",
              "      <td>27.69E</td>\n",
              "    </tr>\n",
              "    <tr>\n",
              "      <th>...</th>\n",
              "      <td>...</td>\n",
              "      <td>...</td>\n",
              "      <td>...</td>\n",
              "      <td>...</td>\n",
              "      <td>...</td>\n",
              "      <td>...</td>\n",
              "    </tr>\n",
              "    <tr>\n",
              "      <th>2844647</th>\n",
              "      <td>2013-05-01</td>\n",
              "      <td>21.306</td>\n",
              "      <td>Zouxian</td>\n",
              "      <td>China</td>\n",
              "      <td>36.17N</td>\n",
              "      <td>117.35E</td>\n",
              "    </tr>\n",
              "    <tr>\n",
              "      <th>2844648</th>\n",
              "      <td>2013-06-01</td>\n",
              "      <td>24.749</td>\n",
              "      <td>Zouxian</td>\n",
              "      <td>China</td>\n",
              "      <td>36.17N</td>\n",
              "      <td>117.35E</td>\n",
              "    </tr>\n",
              "    <tr>\n",
              "      <th>2844649</th>\n",
              "      <td>2013-07-01</td>\n",
              "      <td>27.627</td>\n",
              "      <td>Zouxian</td>\n",
              "      <td>China</td>\n",
              "      <td>36.17N</td>\n",
              "      <td>117.35E</td>\n",
              "    </tr>\n",
              "    <tr>\n",
              "      <th>2844650</th>\n",
              "      <td>2013-08-01</td>\n",
              "      <td>27.978</td>\n",
              "      <td>Zouxian</td>\n",
              "      <td>China</td>\n",
              "      <td>36.17N</td>\n",
              "      <td>117.35E</td>\n",
              "    </tr>\n",
              "    <tr>\n",
              "      <th>2844651</th>\n",
              "      <td>2013-09-01</td>\n",
              "      <td>NaN</td>\n",
              "      <td>Zouxian</td>\n",
              "      <td>China</td>\n",
              "      <td>36.17N</td>\n",
              "      <td>117.35E</td>\n",
              "    </tr>\n",
              "  </tbody>\n",
              "</table>\n",
              "<p>2483531 rows × 6 columns</p>\n",
              "</div>"
            ],
            "text/plain": [
              "                 dt  AverageTemperature     City Country Latitude Longitude\n",
              "0        1743-11-01              10.013    Çorlu  Turkey   40.99N    27.69E\n",
              "1        1743-12-01                 NaN    Çorlu  Turkey   40.99N    27.69E\n",
              "2        1744-01-01                 NaN    Çorlu  Turkey   40.99N    27.69E\n",
              "3        1744-02-01                 NaN    Çorlu  Turkey   40.99N    27.69E\n",
              "4        1744-03-01                 NaN    Çorlu  Turkey   40.99N    27.69E\n",
              "...             ...                 ...      ...     ...      ...       ...\n",
              "2844647  2013-05-01              21.306  Zouxian   China   36.17N   117.35E\n",
              "2844648  2013-06-01              24.749  Zouxian   China   36.17N   117.35E\n",
              "2844649  2013-07-01              27.627  Zouxian   China   36.17N   117.35E\n",
              "2844650  2013-08-01              27.978  Zouxian   China   36.17N   117.35E\n",
              "2844651  2013-09-01                 NaN  Zouxian   China   36.17N   117.35E\n",
              "\n",
              "[2483531 rows x 6 columns]"
            ]
          },
          "metadata": {
            "tags": []
          },
          "execution_count": 249
        }
      ]
    },
    {
      "cell_type": "code",
      "metadata": {
        "id": "wAqrLs2fJUIY"
      },
      "source": [
        "Temp.to_csv(r'C:\\Users\\surfb\\OneDrive\\Desktop\\TempR.csv', header=True)"
      ],
      "execution_count": null,
      "outputs": []
    },
    {
      "cell_type": "code",
      "metadata": {
        "id": "8TeX2PZ9Jg9n"
      },
      "source": [
        ""
      ],
      "execution_count": null,
      "outputs": []
    }
  ]
}