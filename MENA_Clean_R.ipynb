{
  "nbformat": 4,
  "nbformat_minor": 0,
  "metadata": {
    "colab": {
      "name": "MENA_Clean_R.ipynb",
      "provenance": [],
      "authorship_tag": "ABX9TyMbZMff4qXbNS8JrJIbLOym",
      "include_colab_link": true
    },
    "kernelspec": {
      "name": "python3",
      "display_name": "Python 3"
    }
  },
  "cells": [
    {
      "cell_type": "markdown",
      "metadata": {
        "id": "view-in-github",
        "colab_type": "text"
      },
      "source": [
        "<a href=\"https://colab.research.google.com/github/kvinne-anc/Conflict-and-Climate-Project/blob/main/MENA_Clean_R.ipynb\" target=\"_parent\"><img src=\"https://colab.research.google.com/assets/colab-badge.svg\" alt=\"Open In Colab\"/></a>"
      ]
    },
    {
      "cell_type": "code",
      "metadata": {
        "id": "A3zcMTIKF_hX"
      },
      "source": [
        "import pandas as pd \n",
        "import numpy as np"
      ],
      "execution_count": null,
      "outputs": []
    },
    {
      "cell_type": "code",
      "metadata": {
        "id": "dcmX4d3zGIoJ",
        "colab": {
          "base_uri": "https://localhost:8080/",
          "height": 402
        },
        "outputId": "35399413-3e6e-4024-cbe3-da06406d60d3"
      },
      "source": [
        "MENA = pd.read_csv('/content/MENA_1.csv')\n",
        "MENA"
      ],
      "execution_count": null,
      "outputs": [
        {
          "output_type": "execute_result",
          "data": {
            "text/html": [
              "<div>\n",
              "<style scoped>\n",
              "    .dataframe tbody tr th:only-of-type {\n",
              "        vertical-align: middle;\n",
              "    }\n",
              "\n",
              "    .dataframe tbody tr th {\n",
              "        vertical-align: top;\n",
              "    }\n",
              "\n",
              "    .dataframe thead th {\n",
              "        text-align: right;\n",
              "    }\n",
              "</style>\n",
              "<table border=\"1\" class=\"dataframe\">\n",
              "  <thead>\n",
              "    <tr style=\"text-align: right;\">\n",
              "      <th></th>\n",
              "      <th>Unnamed: 0</th>\n",
              "      <th>event_date</th>\n",
              "      <th>year</th>\n",
              "      <th>country</th>\n",
              "      <th>latitude</th>\n",
              "      <th>longitude</th>\n",
              "    </tr>\n",
              "  </thead>\n",
              "  <tbody>\n",
              "    <tr>\n",
              "      <th>0</th>\n",
              "      <td>1</td>\n",
              "      <td>28 July 2018</td>\n",
              "      <td>2018</td>\n",
              "      <td>India</td>\n",
              "      <td>17.8635</td>\n",
              "      <td>82.1959</td>\n",
              "    </tr>\n",
              "    <tr>\n",
              "      <th>1</th>\n",
              "      <td>2</td>\n",
              "      <td>28 July 2018</td>\n",
              "      <td>2018</td>\n",
              "      <td>India</td>\n",
              "      <td>17.8619</td>\n",
              "      <td>82.1970</td>\n",
              "    </tr>\n",
              "    <tr>\n",
              "      <th>2</th>\n",
              "      <td>3</td>\n",
              "      <td>28 July 2018</td>\n",
              "      <td>2018</td>\n",
              "      <td>India</td>\n",
              "      <td>30.7362</td>\n",
              "      <td>76.7884</td>\n",
              "    </tr>\n",
              "    <tr>\n",
              "      <th>3</th>\n",
              "      <td>4</td>\n",
              "      <td>28 July 2018</td>\n",
              "      <td>2018</td>\n",
              "      <td>India</td>\n",
              "      <td>32.9413</td>\n",
              "      <td>74.5498</td>\n",
              "    </tr>\n",
              "    <tr>\n",
              "      <th>4</th>\n",
              "      <td>5</td>\n",
              "      <td>28 July 2018</td>\n",
              "      <td>2018</td>\n",
              "      <td>India</td>\n",
              "      <td>32.9917</td>\n",
              "      <td>74.9320</td>\n",
              "    </tr>\n",
              "    <tr>\n",
              "      <th>...</th>\n",
              "      <td>...</td>\n",
              "      <td>...</td>\n",
              "      <td>...</td>\n",
              "      <td>...</td>\n",
              "      <td>...</td>\n",
              "      <td>...</td>\n",
              "    </tr>\n",
              "    <tr>\n",
              "      <th>168405</th>\n",
              "      <td>216671</td>\n",
              "      <td>01 January 2010</td>\n",
              "      <td>2010</td>\n",
              "      <td>Pakistan</td>\n",
              "      <td>33.1500</td>\n",
              "      <td>70.4325</td>\n",
              "    </tr>\n",
              "    <tr>\n",
              "      <th>168406</th>\n",
              "      <td>216672</td>\n",
              "      <td>01 January 2010</td>\n",
              "      <td>2010</td>\n",
              "      <td>Pakistan</td>\n",
              "      <td>34.9256</td>\n",
              "      <td>71.5141</td>\n",
              "    </tr>\n",
              "    <tr>\n",
              "      <th>168407</th>\n",
              "      <td>216673</td>\n",
              "      <td>01 January 2010</td>\n",
              "      <td>2010</td>\n",
              "      <td>Pakistan</td>\n",
              "      <td>32.5992</td>\n",
              "      <td>70.8511</td>\n",
              "    </tr>\n",
              "    <tr>\n",
              "      <th>168408</th>\n",
              "      <td>216674</td>\n",
              "      <td>01 January 2010</td>\n",
              "      <td>2010</td>\n",
              "      <td>Pakistan</td>\n",
              "      <td>25.3942</td>\n",
              "      <td>68.3736</td>\n",
              "    </tr>\n",
              "    <tr>\n",
              "      <th>168409</th>\n",
              "      <td>216675</td>\n",
              "      <td>01 January 2010</td>\n",
              "      <td>2010</td>\n",
              "      <td>Pakistan</td>\n",
              "      <td>30.1999</td>\n",
              "      <td>67.0097</td>\n",
              "    </tr>\n",
              "  </tbody>\n",
              "</table>\n",
              "<p>168410 rows × 6 columns</p>\n",
              "</div>"
            ],
            "text/plain": [
              "        Unnamed: 0       event_date  year   country  latitude  longitude\n",
              "0                1     28 July 2018  2018     India   17.8635    82.1959\n",
              "1                2     28 July 2018  2018     India   17.8619    82.1970\n",
              "2                3     28 July 2018  2018     India   30.7362    76.7884\n",
              "3                4     28 July 2018  2018     India   32.9413    74.5498\n",
              "4                5     28 July 2018  2018     India   32.9917    74.9320\n",
              "...            ...              ...   ...       ...       ...        ...\n",
              "168405      216671  01 January 2010  2010  Pakistan   33.1500    70.4325\n",
              "168406      216672  01 January 2010  2010  Pakistan   34.9256    71.5141\n",
              "168407      216673  01 January 2010  2010  Pakistan   32.5992    70.8511\n",
              "168408      216674  01 January 2010  2010  Pakistan   25.3942    68.3736\n",
              "168409      216675  01 January 2010  2010  Pakistan   30.1999    67.0097\n",
              "\n",
              "[168410 rows x 6 columns]"
            ]
          },
          "metadata": {
            "tags": []
          },
          "execution_count": 2
        }
      ]
    },
    {
      "cell_type": "code",
      "metadata": {
        "id": "NMekh3c4GXwW",
        "colab": {
          "base_uri": "https://localhost:8080/",
          "height": 50
        },
        "outputId": "735ef927-3e06-40f7-e4cc-14b0a1d12880"
      },
      "source": [
        "MENA['country'].values"
      ],
      "execution_count": null,
      "outputs": [
        {
          "output_type": "execute_result",
          "data": {
            "text/plain": [
              "array(['India', 'India', 'India', ..., 'Pakistan', 'Pakistan', 'Pakistan'],\n",
              "      dtype=object)"
            ]
          },
          "metadata": {
            "tags": []
          },
          "execution_count": 6
        }
      ]
    },
    {
      "cell_type": "code",
      "metadata": {
        "id": "G2nzC3ETIhbC"
      },
      "source": [
        ""
      ],
      "execution_count": null,
      "outputs": []
    }
  ]
}