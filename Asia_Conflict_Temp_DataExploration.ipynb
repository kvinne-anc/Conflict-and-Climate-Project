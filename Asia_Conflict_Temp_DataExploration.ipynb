{
  "nbformat": 4,
  "nbformat_minor": 0,
  "metadata": {
    "colab": {
      "name": "Asia_Conflict_Temp_DataExploration.ipynb",
      "provenance": [],
      "collapsed_sections": [],
      "authorship_tag": "ABX9TyPc7TTjbRr6P4PTYAn4u/JH",
      "include_colab_link": true
    },
    "kernelspec": {
      "name": "python3",
      "display_name": "Python 3"
    }
  },
  "cells": [
    {
      "cell_type": "markdown",
      "metadata": {
        "id": "view-in-github",
        "colab_type": "text"
      },
      "source": [
        "<a href=\"https://colab.research.google.com/github/kvinne-anc/Conflict-and-Climate-Project/blob/main/Asia_Conflict_Temp_DataExploration.ipynb\" target=\"_parent\"><img src=\"https://colab.research.google.com/assets/colab-badge.svg\" alt=\"Open In Colab\"/></a>"
      ]
    },
    {
      "cell_type": "code",
      "metadata": {
        "id": "ssmFO_5O4Va2"
      },
      "source": [
        "import pandas as pd \n",
        "import numpy as np \n"
      ],
      "execution_count": null,
      "outputs": []
    },
    {
      "cell_type": "code",
      "metadata": {
        "id": "rN596JpK4aYH",
        "colab": {
          "base_uri": "https://localhost:8080/",
          "height": 618
        },
        "outputId": "503bd662-028d-479c-bc37-c16bb729cecb"
      },
      "source": [
        "conflict = pd.read_csv('/content/asia_conflicts[1].csv')\n",
        "conflict.head()"
      ],
      "execution_count": null,
      "outputs": [
        {
          "output_type": "execute_result",
          "data": {
            "text/html": [
              "<div>\n",
              "<style scoped>\n",
              "    .dataframe tbody tr th:only-of-type {\n",
              "        vertical-align: middle;\n",
              "    }\n",
              "\n",
              "    .dataframe tbody tr th {\n",
              "        vertical-align: top;\n",
              "    }\n",
              "\n",
              "    .dataframe thead th {\n",
              "        text-align: right;\n",
              "    }\n",
              "</style>\n",
              "<table border=\"1\" class=\"dataframe\">\n",
              "  <thead>\n",
              "    <tr style=\"text-align: right;\">\n",
              "      <th></th>\n",
              "      <th>data_id</th>\n",
              "      <th>iso</th>\n",
              "      <th>event_id_cnty</th>\n",
              "      <th>event_id_no_cnty</th>\n",
              "      <th>event_date</th>\n",
              "      <th>year</th>\n",
              "      <th>time_precision</th>\n",
              "      <th>event_type</th>\n",
              "      <th>actor1</th>\n",
              "      <th>assoc_actor_1</th>\n",
              "      <th>inter1</th>\n",
              "      <th>actor2</th>\n",
              "      <th>assoc_actor_2</th>\n",
              "      <th>inter2</th>\n",
              "      <th>interaction</th>\n",
              "      <th>region</th>\n",
              "      <th>country</th>\n",
              "      <th>admin1</th>\n",
              "      <th>admin2</th>\n",
              "      <th>admin3</th>\n",
              "      <th>location</th>\n",
              "      <th>latitude</th>\n",
              "      <th>longitude</th>\n",
              "      <th>geo_precision</th>\n",
              "      <th>source</th>\n",
              "      <th>source_scale</th>\n",
              "      <th>notes</th>\n",
              "      <th>fatalities</th>\n",
              "      <th>timestamp</th>\n",
              "      <th>iso3</th>\n",
              "    </tr>\n",
              "  </thead>\n",
              "  <tbody>\n",
              "    <tr>\n",
              "      <th>0</th>\n",
              "      <td>1732988</td>\n",
              "      <td>50</td>\n",
              "      <td>BNG6787</td>\n",
              "      <td>6787.0</td>\n",
              "      <td>28 July 2018</td>\n",
              "      <td>2018</td>\n",
              "      <td>1</td>\n",
              "      <td>Riots/Protests</td>\n",
              "      <td>Protesters (Bangladesh)</td>\n",
              "      <td>Labour Group (Bangladesh)</td>\n",
              "      <td>6</td>\n",
              "      <td>NaN</td>\n",
              "      <td>NaN</td>\n",
              "      <td>0</td>\n",
              "      <td>60</td>\n",
              "      <td>Southern Asia</td>\n",
              "      <td>Bangladesh</td>\n",
              "      <td>Chittagong</td>\n",
              "      <td>Chittagong</td>\n",
              "      <td>Chittagong</td>\n",
              "      <td>Chittagong</td>\n",
              "      <td>22.3571</td>\n",
              "      <td>91.7823</td>\n",
              "      <td>1</td>\n",
              "      <td>The Daily Star (Bangladesh)</td>\n",
              "      <td>National</td>\n",
              "      <td>On July 28, in Faujdarhat area of Chittagong c...</td>\n",
              "      <td>0</td>\n",
              "      <td>1532986405</td>\n",
              "      <td>BGD</td>\n",
              "    </tr>\n",
              "    <tr>\n",
              "      <th>1</th>\n",
              "      <td>1733345</td>\n",
              "      <td>356</td>\n",
              "      <td>IND33731</td>\n",
              "      <td>33731.0</td>\n",
              "      <td>28 July 2018</td>\n",
              "      <td>2018</td>\n",
              "      <td>1</td>\n",
              "      <td>Violence against civilians</td>\n",
              "      <td>CPI (Maoist): Communist Party of India (Maoist)</td>\n",
              "      <td>NaN</td>\n",
              "      <td>2</td>\n",
              "      <td>Civilians (India)</td>\n",
              "      <td>NaN</td>\n",
              "      <td>7</td>\n",
              "      <td>27</td>\n",
              "      <td>Southern Asia</td>\n",
              "      <td>India</td>\n",
              "      <td>Andhra Pradesh</td>\n",
              "      <td>Visakhapatnam</td>\n",
              "      <td>Visakhapatnam</td>\n",
              "      <td>Gudem Kotha Veedhi</td>\n",
              "      <td>17.8635</td>\n",
              "      <td>82.1959</td>\n",
              "      <td>1</td>\n",
              "      <td>Hindustan Times</td>\n",
              "      <td>National</td>\n",
              "      <td>On July 28, a \"tribal\" man was allegedly kille...</td>\n",
              "      <td>1</td>\n",
              "      <td>1532986405</td>\n",
              "      <td>IND</td>\n",
              "    </tr>\n",
              "    <tr>\n",
              "      <th>2</th>\n",
              "      <td>1733346</td>\n",
              "      <td>356</td>\n",
              "      <td>IND33732</td>\n",
              "      <td>33732.0</td>\n",
              "      <td>28 July 2018</td>\n",
              "      <td>2018</td>\n",
              "      <td>1</td>\n",
              "      <td>Violence against civilians</td>\n",
              "      <td>CPI (Maoist): Communist Party of India (Maoist)</td>\n",
              "      <td>NaN</td>\n",
              "      <td>2</td>\n",
              "      <td>Civilians (India)</td>\n",
              "      <td>Unidentified Communal Group (India)</td>\n",
              "      <td>7</td>\n",
              "      <td>27</td>\n",
              "      <td>Southern Asia</td>\n",
              "      <td>India</td>\n",
              "      <td>Andhra Pradesh</td>\n",
              "      <td>Visakhapatnam</td>\n",
              "      <td>Gudem Kotha Veedhi</td>\n",
              "      <td>Gudem Kotha Veedhi</td>\n",
              "      <td>17.8619</td>\n",
              "      <td>82.1970</td>\n",
              "      <td>1</td>\n",
              "      <td>Hindustan Times</td>\n",
              "      <td>National</td>\n",
              "      <td>On July 28, in the Chukka Goyyi area of Gudem ...</td>\n",
              "      <td>1</td>\n",
              "      <td>1532986405</td>\n",
              "      <td>IND</td>\n",
              "    </tr>\n",
              "    <tr>\n",
              "      <th>3</th>\n",
              "      <td>1733347</td>\n",
              "      <td>356</td>\n",
              "      <td>IND33733</td>\n",
              "      <td>33733.0</td>\n",
              "      <td>28 July 2018</td>\n",
              "      <td>2018</td>\n",
              "      <td>2</td>\n",
              "      <td>Riots/Protests</td>\n",
              "      <td>Protesters (India)</td>\n",
              "      <td>ABVP: Akhil Bharatiya Vidyarthi Parishad</td>\n",
              "      <td>6</td>\n",
              "      <td>NaN</td>\n",
              "      <td>NaN</td>\n",
              "      <td>0</td>\n",
              "      <td>60</td>\n",
              "      <td>Southern Asia</td>\n",
              "      <td>India</td>\n",
              "      <td>Chandigarh</td>\n",
              "      <td>Chandigarh</td>\n",
              "      <td>Chandigarh</td>\n",
              "      <td>Chandigarh</td>\n",
              "      <td>30.7362</td>\n",
              "      <td>76.7884</td>\n",
              "      <td>1</td>\n",
              "      <td>Hindustan Times</td>\n",
              "      <td>National</td>\n",
              "      <td>Published on July 28, the ABVP of Panjab Unive...</td>\n",
              "      <td>0</td>\n",
              "      <td>1532986405</td>\n",
              "      <td>IND</td>\n",
              "    </tr>\n",
              "    <tr>\n",
              "      <th>4</th>\n",
              "      <td>1733348</td>\n",
              "      <td>356</td>\n",
              "      <td>IND33734</td>\n",
              "      <td>33734.0</td>\n",
              "      <td>28 July 2018</td>\n",
              "      <td>2018</td>\n",
              "      <td>1</td>\n",
              "      <td>Battle-No change of territory</td>\n",
              "      <td>Military Forces of India (1949-)</td>\n",
              "      <td>Police Forces of India (1949-) Border Security...</td>\n",
              "      <td>1</td>\n",
              "      <td>Military Forces of Pakistan (2008-)</td>\n",
              "      <td>NaN</td>\n",
              "      <td>8</td>\n",
              "      <td>18</td>\n",
              "      <td>Southern Asia</td>\n",
              "      <td>India</td>\n",
              "      <td>Jammu and Kashmir</td>\n",
              "      <td>Jammu</td>\n",
              "      <td>Akhnoor</td>\n",
              "      <td>Keri</td>\n",
              "      <td>32.9413</td>\n",
              "      <td>74.5498</td>\n",
              "      <td>2</td>\n",
              "      <td>Early Times (India)</td>\n",
              "      <td>National</td>\n",
              "      <td>On 28 Jul, an Indian solider was injured in cr...</td>\n",
              "      <td>0</td>\n",
              "      <td>1532986405</td>\n",
              "      <td>IND</td>\n",
              "    </tr>\n",
              "  </tbody>\n",
              "</table>\n",
              "</div>"
            ],
            "text/plain": [
              "   data_id  iso event_id_cnty  ...  fatalities   timestamp  iso3\n",
              "0  1732988   50       BNG6787  ...           0  1532986405   BGD\n",
              "1  1733345  356      IND33731  ...           1  1532986405   IND\n",
              "2  1733346  356      IND33732  ...           1  1532986405   IND\n",
              "3  1733347  356      IND33733  ...           0  1532986405   IND\n",
              "4  1733348  356      IND33734  ...           0  1532986405   IND\n",
              "\n",
              "[5 rows x 30 columns]"
            ]
          },
          "metadata": {
            "tags": []
          },
          "execution_count": 53
        }
      ]
    },
    {
      "cell_type": "code",
      "metadata": {
        "id": "zKsT14KB9eUU",
        "colab": {
          "base_uri": "https://localhost:8080/",
          "height": 50
        },
        "outputId": "64589a97-fdaf-4bf1-a2fa-3f9fdff0156a"
      },
      "source": [
        "conflict['country'].values\n"
      ],
      "execution_count": null,
      "outputs": [
        {
          "output_type": "execute_result",
          "data": {
            "text/plain": [
              "array(['Bangladesh', 'India', 'India', ..., 'Pakistan', 'Sri Lanka',\n",
              "       'Myanmar'], dtype=object)"
            ]
          },
          "metadata": {
            "tags": []
          },
          "execution_count": 80
        }
      ]
    },
    {
      "cell_type": "code",
      "metadata": {
        "id": "sYpJcdFnCQU2",
        "colab": {
          "base_uri": "https://localhost:8080/",
          "height": 1000
        },
        "outputId": "1bc6ae1f-596f-447d-e4e1-c6894f24399a"
      },
      "source": [
        "conflict = conflict[conflict.country != 'Thailand']\n",
        "conflict"
      ],
      "execution_count": null,
      "outputs": [
        {
          "output_type": "execute_result",
          "data": {
            "text/html": [
              "<div>\n",
              "<style scoped>\n",
              "    .dataframe tbody tr th:only-of-type {\n",
              "        vertical-align: middle;\n",
              "    }\n",
              "\n",
              "    .dataframe tbody tr th {\n",
              "        vertical-align: top;\n",
              "    }\n",
              "\n",
              "    .dataframe thead th {\n",
              "        text-align: right;\n",
              "    }\n",
              "</style>\n",
              "<table border=\"1\" class=\"dataframe\">\n",
              "  <thead>\n",
              "    <tr style=\"text-align: right;\">\n",
              "      <th></th>\n",
              "      <th>data_id</th>\n",
              "      <th>iso</th>\n",
              "      <th>event_id_cnty</th>\n",
              "      <th>event_id_no_cnty</th>\n",
              "      <th>event_date</th>\n",
              "      <th>year</th>\n",
              "      <th>time_precision</th>\n",
              "      <th>event_type</th>\n",
              "      <th>actor1</th>\n",
              "      <th>assoc_actor_1</th>\n",
              "      <th>inter1</th>\n",
              "      <th>actor2</th>\n",
              "      <th>assoc_actor_2</th>\n",
              "      <th>inter2</th>\n",
              "      <th>interaction</th>\n",
              "      <th>region</th>\n",
              "      <th>country</th>\n",
              "      <th>admin1</th>\n",
              "      <th>admin2</th>\n",
              "      <th>admin3</th>\n",
              "      <th>location</th>\n",
              "      <th>latitude</th>\n",
              "      <th>longitude</th>\n",
              "      <th>geo_precision</th>\n",
              "      <th>source</th>\n",
              "      <th>source_scale</th>\n",
              "      <th>notes</th>\n",
              "      <th>fatalities</th>\n",
              "      <th>timestamp</th>\n",
              "      <th>iso3</th>\n",
              "    </tr>\n",
              "  </thead>\n",
              "  <tbody>\n",
              "    <tr>\n",
              "      <th>0</th>\n",
              "      <td>1732988</td>\n",
              "      <td>50</td>\n",
              "      <td>BNG6787</td>\n",
              "      <td>6787.0</td>\n",
              "      <td>28 July 2018</td>\n",
              "      <td>2018</td>\n",
              "      <td>1</td>\n",
              "      <td>Riots/Protests</td>\n",
              "      <td>Protesters (Bangladesh)</td>\n",
              "      <td>Labour Group (Bangladesh)</td>\n",
              "      <td>6</td>\n",
              "      <td>NaN</td>\n",
              "      <td>NaN</td>\n",
              "      <td>0</td>\n",
              "      <td>60</td>\n",
              "      <td>Southern Asia</td>\n",
              "      <td>Bangladesh</td>\n",
              "      <td>Chittagong</td>\n",
              "      <td>Chittagong</td>\n",
              "      <td>Chittagong</td>\n",
              "      <td>Chittagong</td>\n",
              "      <td>22.3571</td>\n",
              "      <td>91.7823</td>\n",
              "      <td>1</td>\n",
              "      <td>The Daily Star (Bangladesh)</td>\n",
              "      <td>National</td>\n",
              "      <td>On July 28, in Faujdarhat area of Chittagong c...</td>\n",
              "      <td>0</td>\n",
              "      <td>1532986405</td>\n",
              "      <td>BGD</td>\n",
              "    </tr>\n",
              "    <tr>\n",
              "      <th>1</th>\n",
              "      <td>1733345</td>\n",
              "      <td>356</td>\n",
              "      <td>IND33731</td>\n",
              "      <td>33731.0</td>\n",
              "      <td>28 July 2018</td>\n",
              "      <td>2018</td>\n",
              "      <td>1</td>\n",
              "      <td>Violence against civilians</td>\n",
              "      <td>CPI (Maoist): Communist Party of India (Maoist)</td>\n",
              "      <td>NaN</td>\n",
              "      <td>2</td>\n",
              "      <td>Civilians (India)</td>\n",
              "      <td>NaN</td>\n",
              "      <td>7</td>\n",
              "      <td>27</td>\n",
              "      <td>Southern Asia</td>\n",
              "      <td>India</td>\n",
              "      <td>Andhra Pradesh</td>\n",
              "      <td>Visakhapatnam</td>\n",
              "      <td>Visakhapatnam</td>\n",
              "      <td>Gudem Kotha Veedhi</td>\n",
              "      <td>17.8635</td>\n",
              "      <td>82.1959</td>\n",
              "      <td>1</td>\n",
              "      <td>Hindustan Times</td>\n",
              "      <td>National</td>\n",
              "      <td>On July 28, a \"tribal\" man was allegedly kille...</td>\n",
              "      <td>1</td>\n",
              "      <td>1532986405</td>\n",
              "      <td>IND</td>\n",
              "    </tr>\n",
              "    <tr>\n",
              "      <th>2</th>\n",
              "      <td>1733346</td>\n",
              "      <td>356</td>\n",
              "      <td>IND33732</td>\n",
              "      <td>33732.0</td>\n",
              "      <td>28 July 2018</td>\n",
              "      <td>2018</td>\n",
              "      <td>1</td>\n",
              "      <td>Violence against civilians</td>\n",
              "      <td>CPI (Maoist): Communist Party of India (Maoist)</td>\n",
              "      <td>NaN</td>\n",
              "      <td>2</td>\n",
              "      <td>Civilians (India)</td>\n",
              "      <td>Unidentified Communal Group (India)</td>\n",
              "      <td>7</td>\n",
              "      <td>27</td>\n",
              "      <td>Southern Asia</td>\n",
              "      <td>India</td>\n",
              "      <td>Andhra Pradesh</td>\n",
              "      <td>Visakhapatnam</td>\n",
              "      <td>Gudem Kotha Veedhi</td>\n",
              "      <td>Gudem Kotha Veedhi</td>\n",
              "      <td>17.8619</td>\n",
              "      <td>82.1970</td>\n",
              "      <td>1</td>\n",
              "      <td>Hindustan Times</td>\n",
              "      <td>National</td>\n",
              "      <td>On July 28, in the Chukka Goyyi area of Gudem ...</td>\n",
              "      <td>1</td>\n",
              "      <td>1532986405</td>\n",
              "      <td>IND</td>\n",
              "    </tr>\n",
              "    <tr>\n",
              "      <th>3</th>\n",
              "      <td>1733347</td>\n",
              "      <td>356</td>\n",
              "      <td>IND33733</td>\n",
              "      <td>33733.0</td>\n",
              "      <td>28 July 2018</td>\n",
              "      <td>2018</td>\n",
              "      <td>2</td>\n",
              "      <td>Riots/Protests</td>\n",
              "      <td>Protesters (India)</td>\n",
              "      <td>ABVP: Akhil Bharatiya Vidyarthi Parishad</td>\n",
              "      <td>6</td>\n",
              "      <td>NaN</td>\n",
              "      <td>NaN</td>\n",
              "      <td>0</td>\n",
              "      <td>60</td>\n",
              "      <td>Southern Asia</td>\n",
              "      <td>India</td>\n",
              "      <td>Chandigarh</td>\n",
              "      <td>Chandigarh</td>\n",
              "      <td>Chandigarh</td>\n",
              "      <td>Chandigarh</td>\n",
              "      <td>30.7362</td>\n",
              "      <td>76.7884</td>\n",
              "      <td>1</td>\n",
              "      <td>Hindustan Times</td>\n",
              "      <td>National</td>\n",
              "      <td>Published on July 28, the ABVP of Panjab Unive...</td>\n",
              "      <td>0</td>\n",
              "      <td>1532986405</td>\n",
              "      <td>IND</td>\n",
              "    </tr>\n",
              "    <tr>\n",
              "      <th>4</th>\n",
              "      <td>1733348</td>\n",
              "      <td>356</td>\n",
              "      <td>IND33734</td>\n",
              "      <td>33734.0</td>\n",
              "      <td>28 July 2018</td>\n",
              "      <td>2018</td>\n",
              "      <td>1</td>\n",
              "      <td>Battle-No change of territory</td>\n",
              "      <td>Military Forces of India (1949-)</td>\n",
              "      <td>Police Forces of India (1949-) Border Security...</td>\n",
              "      <td>1</td>\n",
              "      <td>Military Forces of Pakistan (2008-)</td>\n",
              "      <td>NaN</td>\n",
              "      <td>8</td>\n",
              "      <td>18</td>\n",
              "      <td>Southern Asia</td>\n",
              "      <td>India</td>\n",
              "      <td>Jammu and Kashmir</td>\n",
              "      <td>Jammu</td>\n",
              "      <td>Akhnoor</td>\n",
              "      <td>Keri</td>\n",
              "      <td>32.9413</td>\n",
              "      <td>74.5498</td>\n",
              "      <td>2</td>\n",
              "      <td>Early Times (India)</td>\n",
              "      <td>National</td>\n",
              "      <td>On 28 Jul, an Indian solider was injured in cr...</td>\n",
              "      <td>0</td>\n",
              "      <td>1532986405</td>\n",
              "      <td>IND</td>\n",
              "    </tr>\n",
              "    <tr>\n",
              "      <th>...</th>\n",
              "      <td>...</td>\n",
              "      <td>...</td>\n",
              "      <td>...</td>\n",
              "      <td>...</td>\n",
              "      <td>...</td>\n",
              "      <td>...</td>\n",
              "      <td>...</td>\n",
              "      <td>...</td>\n",
              "      <td>...</td>\n",
              "      <td>...</td>\n",
              "      <td>...</td>\n",
              "      <td>...</td>\n",
              "      <td>...</td>\n",
              "      <td>...</td>\n",
              "      <td>...</td>\n",
              "      <td>...</td>\n",
              "      <td>...</td>\n",
              "      <td>...</td>\n",
              "      <td>...</td>\n",
              "      <td>...</td>\n",
              "      <td>...</td>\n",
              "      <td>...</td>\n",
              "      <td>...</td>\n",
              "      <td>...</td>\n",
              "      <td>...</td>\n",
              "      <td>...</td>\n",
              "      <td>...</td>\n",
              "      <td>...</td>\n",
              "      <td>...</td>\n",
              "      <td>...</td>\n",
              "    </tr>\n",
              "    <tr>\n",
              "      <th>216673</th>\n",
              "      <td>1531187</td>\n",
              "      <td>586</td>\n",
              "      <td>PAK8</td>\n",
              "      <td>8.0</td>\n",
              "      <td>01 January 2010</td>\n",
              "      <td>2010</td>\n",
              "      <td>1</td>\n",
              "      <td>Violence against civilians</td>\n",
              "      <td>TTP: Tehreek-i-Taliban Pakistan</td>\n",
              "      <td>NaN</td>\n",
              "      <td>2</td>\n",
              "      <td>Civilians (Pakistan)</td>\n",
              "      <td>NaN</td>\n",
              "      <td>7</td>\n",
              "      <td>27</td>\n",
              "      <td>Southern Asia</td>\n",
              "      <td>Pakistan</td>\n",
              "      <td>Khyber Pakhtunkhwa</td>\n",
              "      <td>Lakki Marwat</td>\n",
              "      <td>Lakki Marwat</td>\n",
              "      <td>Lakki Marwat</td>\n",
              "      <td>32.5992</td>\n",
              "      <td>70.8511</td>\n",
              "      <td>1</td>\n",
              "      <td>Right Vision News</td>\n",
              "      <td>National</td>\n",
              "      <td>A police spokesman confirmed at least 93 were ...</td>\n",
              "      <td>93</td>\n",
              "      <td>1524053974</td>\n",
              "      <td>PAK</td>\n",
              "    </tr>\n",
              "    <tr>\n",
              "      <th>216674</th>\n",
              "      <td>1531160</td>\n",
              "      <td>586</td>\n",
              "      <td>PAK9</td>\n",
              "      <td>9.0</td>\n",
              "      <td>01 January 2010</td>\n",
              "      <td>2010</td>\n",
              "      <td>1</td>\n",
              "      <td>Riots/Protests</td>\n",
              "      <td>Protesters (Pakistan)</td>\n",
              "      <td>NaN</td>\n",
              "      <td>6</td>\n",
              "      <td>NaN</td>\n",
              "      <td>NaN</td>\n",
              "      <td>0</td>\n",
              "      <td>60</td>\n",
              "      <td>Southern Asia</td>\n",
              "      <td>Pakistan</td>\n",
              "      <td>Sindh</td>\n",
              "      <td>Hyderabad</td>\n",
              "      <td>Hyderabad</td>\n",
              "      <td>Hyderabad</td>\n",
              "      <td>25.3942</td>\n",
              "      <td>68.3736</td>\n",
              "      <td>1</td>\n",
              "      <td>Right Vision News</td>\n",
              "      <td>National</td>\n",
              "      <td>Protests occurred in Hyderabad in solidarity w...</td>\n",
              "      <td>0</td>\n",
              "      <td>1524053974</td>\n",
              "      <td>PAK</td>\n",
              "    </tr>\n",
              "    <tr>\n",
              "      <th>216675</th>\n",
              "      <td>1531188</td>\n",
              "      <td>586</td>\n",
              "      <td>PAK5</td>\n",
              "      <td>5.0</td>\n",
              "      <td>01 January 2010</td>\n",
              "      <td>2010</td>\n",
              "      <td>2</td>\n",
              "      <td>Strategic development</td>\n",
              "      <td>Police Forces of Pakistan (2008-) Pakistan Ran...</td>\n",
              "      <td>NaN</td>\n",
              "      <td>1</td>\n",
              "      <td>Police Forces of India (1949-) Border Security...</td>\n",
              "      <td>NaN</td>\n",
              "      <td>8</td>\n",
              "      <td>18</td>\n",
              "      <td>Southern Asia</td>\n",
              "      <td>Pakistan</td>\n",
              "      <td>Balochistan</td>\n",
              "      <td>Quetta</td>\n",
              "      <td>Quetta City</td>\n",
              "      <td>Quetta</td>\n",
              "      <td>30.1999</td>\n",
              "      <td>67.0097</td>\n",
              "      <td>2</td>\n",
              "      <td>Right Vision News</td>\n",
              "      <td>National</td>\n",
              "      <td>Agents of a Pakistani law enforcement agency r...</td>\n",
              "      <td>0</td>\n",
              "      <td>1524053974</td>\n",
              "      <td>PAK</td>\n",
              "    </tr>\n",
              "    <tr>\n",
              "      <th>216677</th>\n",
              "      <td>1673081</td>\n",
              "      <td>144</td>\n",
              "      <td>SRI1298</td>\n",
              "      <td>1298.0</td>\n",
              "      <td>01 January 2010</td>\n",
              "      <td>2010</td>\n",
              "      <td>1</td>\n",
              "      <td>Riots/Protests</td>\n",
              "      <td>Protesters (Sri Lanka)</td>\n",
              "      <td>UNF: United National Front; SLFP: Sri Lanka Fr...</td>\n",
              "      <td>6</td>\n",
              "      <td>NaN</td>\n",
              "      <td>NaN</td>\n",
              "      <td>0</td>\n",
              "      <td>60</td>\n",
              "      <td>Southern Asia</td>\n",
              "      <td>Sri Lanka</td>\n",
              "      <td>Southern</td>\n",
              "      <td>Matara</td>\n",
              "      <td>Matara Four Gravets</td>\n",
              "      <td>Makavita</td>\n",
              "      <td>5.9666</td>\n",
              "      <td>80.5666</td>\n",
              "      <td>1</td>\n",
              "      <td>Daily Mirror</td>\n",
              "      <td>National</td>\n",
              "      <td>A group of residents from the Makawita area st...</td>\n",
              "      <td>0</td>\n",
              "      <td>1531145065</td>\n",
              "      <td>LKA</td>\n",
              "    </tr>\n",
              "    <tr>\n",
              "      <th>216678</th>\n",
              "      <td>1728203</td>\n",
              "      <td>104</td>\n",
              "      <td>MMR1</td>\n",
              "      <td>1.0</td>\n",
              "      <td>01 January 2010</td>\n",
              "      <td>2010</td>\n",
              "      <td>1</td>\n",
              "      <td>Violence against civilians</td>\n",
              "      <td>Military Forces of Myanmar (1988-2011)</td>\n",
              "      <td>DKBA (Buddhist): Democratic Karen Buddhist Arm...</td>\n",
              "      <td>1</td>\n",
              "      <td>Civilians (Myanmar)</td>\n",
              "      <td>NaN</td>\n",
              "      <td>7</td>\n",
              "      <td>17</td>\n",
              "      <td>South-Eastern Asia</td>\n",
              "      <td>Myanmar</td>\n",
              "      <td>Kayin</td>\n",
              "      <td>Kawkareik</td>\n",
              "      <td>Kyainseikgyi</td>\n",
              "      <td>Kyainseikgyi</td>\n",
              "      <td>16.0408</td>\n",
              "      <td>98.1232</td>\n",
              "      <td>2</td>\n",
              "      <td>Democratic Voice of Burma</td>\n",
              "      <td>National</td>\n",
              "      <td>On 1 January 2010, the Democratic Karen Buddhi...</td>\n",
              "      <td>0</td>\n",
              "      <td>1532986401</td>\n",
              "      <td>MMR</td>\n",
              "    </tr>\n",
              "  </tbody>\n",
              "</table>\n",
              "<p>213760 rows × 30 columns</p>\n",
              "</div>"
            ],
            "text/plain": [
              "        data_id  iso event_id_cnty  ...  fatalities   timestamp  iso3\n",
              "0       1732988   50       BNG6787  ...           0  1532986405   BGD\n",
              "1       1733345  356      IND33731  ...           1  1532986405   IND\n",
              "2       1733346  356      IND33732  ...           1  1532986405   IND\n",
              "3       1733347  356      IND33733  ...           0  1532986405   IND\n",
              "4       1733348  356      IND33734  ...           0  1532986405   IND\n",
              "...         ...  ...           ...  ...         ...         ...   ...\n",
              "216673  1531187  586          PAK8  ...          93  1524053974   PAK\n",
              "216674  1531160  586          PAK9  ...           0  1524053974   PAK\n",
              "216675  1531188  586          PAK5  ...           0  1524053974   PAK\n",
              "216677  1673081  144       SRI1298  ...           0  1531145065   LKA\n",
              "216678  1728203  104          MMR1  ...           0  1532986401   MMR\n",
              "\n",
              "[213760 rows x 30 columns]"
            ]
          },
          "metadata": {
            "tags": []
          },
          "execution_count": 74
        }
      ]
    },
    {
      "cell_type": "code",
      "metadata": {
        "id": "eweLRUwj5m1J",
        "colab": {
          "base_uri": "https://localhost:8080/",
          "height": 34
        },
        "outputId": "bf037eb9-476a-4f05-cbf3-3e8771ac6de5"
      },
      "source": [
        "conflict.shape\n"
      ],
      "execution_count": null,
      "outputs": [
        {
          "output_type": "execute_result",
          "data": {
            "text/plain": [
              "(216679, 30)"
            ]
          },
          "metadata": {
            "tags": []
          },
          "execution_count": 56
        }
      ]
    },
    {
      "cell_type": "code",
      "metadata": {
        "id": "k_SIgUlG5rad",
        "colab": {
          "base_uri": "https://localhost:8080/",
          "height": 538
        },
        "outputId": "631c842d-8a82-4ee6-c570-1de94228373a"
      },
      "source": [
        "conflict.isnull().sum()"
      ],
      "execution_count": null,
      "outputs": [
        {
          "output_type": "execute_result",
          "data": {
            "text/plain": [
              "data_id                  0\n",
              "iso                      0\n",
              "event_id_cnty            0\n",
              "event_id_no_cnty         8\n",
              "event_date               0\n",
              "year                     0\n",
              "time_precision           0\n",
              "event_type               0\n",
              "actor1                   0\n",
              "assoc_actor_1       151086\n",
              "inter1                   0\n",
              "actor2              102747\n",
              "assoc_actor_2       196163\n",
              "inter2                   0\n",
              "interaction              0\n",
              "region                   0\n",
              "country                  0\n",
              "admin1                   1\n",
              "admin2                 830\n",
              "admin3               68959\n",
              "location                 1\n",
              "latitude                 0\n",
              "longitude                0\n",
              "geo_precision            0\n",
              "source                   0\n",
              "source_scale             4\n",
              "notes                    0\n",
              "fatalities               0\n",
              "timestamp                0\n",
              "iso3                     3\n",
              "dtype: int64"
            ]
          },
          "metadata": {
            "tags": []
          },
          "execution_count": 57
        }
      ]
    },
    {
      "cell_type": "code",
      "metadata": {
        "id": "-3rOj1GEKDdT",
        "colab": {
          "base_uri": "https://localhost:8080/",
          "height": 34
        },
        "outputId": "d21bf666-68ce-4382-8aef-77f1d17fcf5b"
      },
      "source": [
        "conflict['location'].nunique()"
      ],
      "execution_count": null,
      "outputs": [
        {
          "output_type": "execute_result",
          "data": {
            "text/plain": [
              "20065"
            ]
          },
          "metadata": {
            "tags": []
          },
          "execution_count": 58
        }
      ]
    },
    {
      "cell_type": "code",
      "metadata": {
        "id": "965gl8WNKDgx",
        "colab": {
          "base_uri": "https://localhost:8080/",
          "height": 34
        },
        "outputId": "2cf2917d-7638-405e-a52a-4b4493daaeab"
      },
      "source": [
        "conflict['event_date'].nunique()"
      ],
      "execution_count": null,
      "outputs": [
        {
          "output_type": "execute_result",
          "data": {
            "text/plain": [
              "3130"
            ]
          },
          "metadata": {
            "tags": []
          },
          "execution_count": 59
        }
      ]
    },
    {
      "cell_type": "code",
      "metadata": {
        "id": "C1UQ0aTHKYJ-",
        "colab": {
          "base_uri": "https://localhost:8080/",
          "height": 34
        },
        "outputId": "82096bef-413a-4dfc-8229-435ff3d170de"
      },
      "source": [
        "conflict['year'].nunique()"
      ],
      "execution_count": null,
      "outputs": [
        {
          "output_type": "execute_result",
          "data": {
            "text/plain": [
              "9"
            ]
          },
          "metadata": {
            "tags": []
          },
          "execution_count": 60
        }
      ]
    },
    {
      "cell_type": "code",
      "metadata": {
        "id": "pzwEY17oKm8-"
      },
      "source": [
        "#Conflict dataset runs from 2010-2018, contains long/lat\n",
        "#Temp by City dataset runs from 1743-2013: No other viable datasets could be found for monthly temp by city from 2013-2018\n",
        "#contains long/lat\n",
        "#Braith conflict dataset runs from 1990-2001, contains date and long/lat\n",
        "#Forgotten conflicts dataset runs from various dates depnding on location to present \n",
        "#Asia conflicts has the day, month year for conflicts, can change the dt format, drop the day, keep month and year - supplement missing years\n",
        "#from 2001-2010 with forgotten conflicts data. Add extra rows for months during ongoing conflict to supplement. \n",
        "#Trim all datasets down by specific lat/long after rounding, and specific years after that. "
      ],
      "execution_count": null,
      "outputs": []
    },
    {
      "cell_type": "code",
      "metadata": {
        "id": "Lc-vkckAKnN8"
      },
      "source": [
        ""
      ],
      "execution_count": null,
      "outputs": []
    },
    {
      "cell_type": "code",
      "metadata": {
        "id": "HYxq3DUpHG3I",
        "colab": {
          "base_uri": "https://localhost:8080/",
          "height": 195
        },
        "outputId": "7be6def2-24cc-4d6e-98c2-e4378ea2c47f"
      },
      "source": [
        "temp = pd.read_csv('/content/GlobalLandTemperaturesByCity[1].csv')\n",
        "temp.head()"
      ],
      "execution_count": null,
      "outputs": [
        {
          "output_type": "execute_result",
          "data": {
            "text/html": [
              "<div>\n",
              "<style scoped>\n",
              "    .dataframe tbody tr th:only-of-type {\n",
              "        vertical-align: middle;\n",
              "    }\n",
              "\n",
              "    .dataframe tbody tr th {\n",
              "        vertical-align: top;\n",
              "    }\n",
              "\n",
              "    .dataframe thead th {\n",
              "        text-align: right;\n",
              "    }\n",
              "</style>\n",
              "<table border=\"1\" class=\"dataframe\">\n",
              "  <thead>\n",
              "    <tr style=\"text-align: right;\">\n",
              "      <th></th>\n",
              "      <th>dt</th>\n",
              "      <th>AverageTemperature</th>\n",
              "      <th>AverageTemperatureUncertainty</th>\n",
              "      <th>City</th>\n",
              "      <th>Country</th>\n",
              "      <th>Latitude</th>\n",
              "      <th>Longitude</th>\n",
              "    </tr>\n",
              "  </thead>\n",
              "  <tbody>\n",
              "    <tr>\n",
              "      <th>0</th>\n",
              "      <td>1743-11-01</td>\n",
              "      <td>6.068</td>\n",
              "      <td>1.737</td>\n",
              "      <td>Århus</td>\n",
              "      <td>Denmark</td>\n",
              "      <td>57.05N</td>\n",
              "      <td>10.33E</td>\n",
              "    </tr>\n",
              "    <tr>\n",
              "      <th>1</th>\n",
              "      <td>1743-12-01</td>\n",
              "      <td>NaN</td>\n",
              "      <td>NaN</td>\n",
              "      <td>Århus</td>\n",
              "      <td>Denmark</td>\n",
              "      <td>57.05N</td>\n",
              "      <td>10.33E</td>\n",
              "    </tr>\n",
              "    <tr>\n",
              "      <th>2</th>\n",
              "      <td>1744-01-01</td>\n",
              "      <td>NaN</td>\n",
              "      <td>NaN</td>\n",
              "      <td>Århus</td>\n",
              "      <td>Denmark</td>\n",
              "      <td>57.05N</td>\n",
              "      <td>10.33E</td>\n",
              "    </tr>\n",
              "    <tr>\n",
              "      <th>3</th>\n",
              "      <td>1744-02-01</td>\n",
              "      <td>NaN</td>\n",
              "      <td>NaN</td>\n",
              "      <td>Århus</td>\n",
              "      <td>Denmark</td>\n",
              "      <td>57.05N</td>\n",
              "      <td>10.33E</td>\n",
              "    </tr>\n",
              "    <tr>\n",
              "      <th>4</th>\n",
              "      <td>1744-03-01</td>\n",
              "      <td>NaN</td>\n",
              "      <td>NaN</td>\n",
              "      <td>Århus</td>\n",
              "      <td>Denmark</td>\n",
              "      <td>57.05N</td>\n",
              "      <td>10.33E</td>\n",
              "    </tr>\n",
              "  </tbody>\n",
              "</table>\n",
              "</div>"
            ],
            "text/plain": [
              "           dt  AverageTemperature  ...  Latitude Longitude\n",
              "0  1743-11-01               6.068  ...    57.05N    10.33E\n",
              "1  1743-12-01                 NaN  ...    57.05N    10.33E\n",
              "2  1744-01-01                 NaN  ...    57.05N    10.33E\n",
              "3  1744-02-01                 NaN  ...    57.05N    10.33E\n",
              "4  1744-03-01                 NaN  ...    57.05N    10.33E\n",
              "\n",
              "[5 rows x 7 columns]"
            ]
          },
          "metadata": {
            "tags": []
          },
          "execution_count": 62
        }
      ]
    },
    {
      "cell_type": "code",
      "metadata": {
        "id": "6Z8Td6VPHG6Z",
        "colab": {
          "base_uri": "https://localhost:8080/",
          "height": 34
        },
        "outputId": "e9713cfa-f13b-4b04-dab7-dfe7008b3627"
      },
      "source": [
        "temp.shape"
      ],
      "execution_count": null,
      "outputs": [
        {
          "output_type": "execute_result",
          "data": {
            "text/plain": [
              "(8599212, 7)"
            ]
          },
          "metadata": {
            "tags": []
          },
          "execution_count": 63
        }
      ]
    },
    {
      "cell_type": "code",
      "metadata": {
        "id": "4HYxJWevHG94",
        "colab": {
          "base_uri": "https://localhost:8080/",
          "height": 34
        },
        "outputId": "a50df555-77bd-4f6d-eae6-ff49b44f8319"
      },
      "source": [
        "temp['City'].nunique()"
      ],
      "execution_count": null,
      "outputs": [
        {
          "output_type": "execute_result",
          "data": {
            "text/plain": [
              "3448"
            ]
          },
          "metadata": {
            "tags": []
          },
          "execution_count": 64
        }
      ]
    },
    {
      "cell_type": "code",
      "metadata": {
        "id": "v-8_XBBaH92f",
        "colab": {
          "base_uri": "https://localhost:8080/",
          "height": 34
        },
        "outputId": "229bd564-ee69-4c14-aef6-b203a9b2dbc9"
      },
      "source": [
        "temp['Country'].nunique()"
      ],
      "execution_count": null,
      "outputs": [
        {
          "output_type": "execute_result",
          "data": {
            "text/plain": [
              "159"
            ]
          },
          "metadata": {
            "tags": []
          },
          "execution_count": 65
        }
      ]
    },
    {
      "cell_type": "code",
      "metadata": {
        "id": "cte38nHlIC4J",
        "colab": {
          "base_uri": "https://localhost:8080/",
          "height": 34
        },
        "outputId": "3f73f1af-e76e-4b09-bc1d-a931c172c2e8"
      },
      "source": [
        "temp['dt'].nunique()"
      ],
      "execution_count": null,
      "outputs": [
        {
          "output_type": "execute_result",
          "data": {
            "text/plain": [
              "3239"
            ]
          },
          "metadata": {
            "tags": []
          },
          "execution_count": 66
        }
      ]
    },
    {
      "cell_type": "code",
      "metadata": {
        "id": "xELBfVH6IGpL",
        "colab": {
          "base_uri": "https://localhost:8080/",
          "height": 195
        },
        "outputId": "7e7323a2-27f3-4290-a771-9248f2a9e928"
      },
      "source": [
        "temp.tail()"
      ],
      "execution_count": null,
      "outputs": [
        {
          "output_type": "execute_result",
          "data": {
            "text/html": [
              "<div>\n",
              "<style scoped>\n",
              "    .dataframe tbody tr th:only-of-type {\n",
              "        vertical-align: middle;\n",
              "    }\n",
              "\n",
              "    .dataframe tbody tr th {\n",
              "        vertical-align: top;\n",
              "    }\n",
              "\n",
              "    .dataframe thead th {\n",
              "        text-align: right;\n",
              "    }\n",
              "</style>\n",
              "<table border=\"1\" class=\"dataframe\">\n",
              "  <thead>\n",
              "    <tr style=\"text-align: right;\">\n",
              "      <th></th>\n",
              "      <th>dt</th>\n",
              "      <th>AverageTemperature</th>\n",
              "      <th>AverageTemperatureUncertainty</th>\n",
              "      <th>City</th>\n",
              "      <th>Country</th>\n",
              "      <th>Latitude</th>\n",
              "      <th>Longitude</th>\n",
              "    </tr>\n",
              "  </thead>\n",
              "  <tbody>\n",
              "    <tr>\n",
              "      <th>8599207</th>\n",
              "      <td>2013-05-01</td>\n",
              "      <td>11.464</td>\n",
              "      <td>0.236</td>\n",
              "      <td>Zwolle</td>\n",
              "      <td>Netherlands</td>\n",
              "      <td>52.24N</td>\n",
              "      <td>5.26E</td>\n",
              "    </tr>\n",
              "    <tr>\n",
              "      <th>8599208</th>\n",
              "      <td>2013-06-01</td>\n",
              "      <td>15.043</td>\n",
              "      <td>0.261</td>\n",
              "      <td>Zwolle</td>\n",
              "      <td>Netherlands</td>\n",
              "      <td>52.24N</td>\n",
              "      <td>5.26E</td>\n",
              "    </tr>\n",
              "    <tr>\n",
              "      <th>8599209</th>\n",
              "      <td>2013-07-01</td>\n",
              "      <td>18.775</td>\n",
              "      <td>0.193</td>\n",
              "      <td>Zwolle</td>\n",
              "      <td>Netherlands</td>\n",
              "      <td>52.24N</td>\n",
              "      <td>5.26E</td>\n",
              "    </tr>\n",
              "    <tr>\n",
              "      <th>8599210</th>\n",
              "      <td>2013-08-01</td>\n",
              "      <td>18.025</td>\n",
              "      <td>0.298</td>\n",
              "      <td>Zwolle</td>\n",
              "      <td>Netherlands</td>\n",
              "      <td>52.24N</td>\n",
              "      <td>5.26E</td>\n",
              "    </tr>\n",
              "    <tr>\n",
              "      <th>8599211</th>\n",
              "      <td>2013-09-01</td>\n",
              "      <td>NaN</td>\n",
              "      <td>NaN</td>\n",
              "      <td>Zwolle</td>\n",
              "      <td>Netherlands</td>\n",
              "      <td>52.24N</td>\n",
              "      <td>5.26E</td>\n",
              "    </tr>\n",
              "  </tbody>\n",
              "</table>\n",
              "</div>"
            ],
            "text/plain": [
              "                 dt  AverageTemperature  ...  Latitude Longitude\n",
              "8599207  2013-05-01              11.464  ...    52.24N     5.26E\n",
              "8599208  2013-06-01              15.043  ...    52.24N     5.26E\n",
              "8599209  2013-07-01              18.775  ...    52.24N     5.26E\n",
              "8599210  2013-08-01              18.025  ...    52.24N     5.26E\n",
              "8599211  2013-09-01                 NaN  ...    52.24N     5.26E\n",
              "\n",
              "[5 rows x 7 columns]"
            ]
          },
          "metadata": {
            "tags": []
          },
          "execution_count": 67
        }
      ]
    },
    {
      "cell_type": "code",
      "metadata": {
        "id": "RidpvOlzIN7J"
      },
      "source": [
        "import pandas as pd"
      ],
      "execution_count": null,
      "outputs": []
    },
    {
      "cell_type": "code",
      "metadata": {
        "id": "7tw3IdsZpk1K",
        "colab": {
          "base_uri": "https://localhost:8080/",
          "height": 195
        },
        "outputId": "058c84ca-113f-451b-d876-0cad8b8a9f55"
      },
      "source": [
        "Braith = pd.read_excel('/content/Braith_II2005_data.xls')\n",
        "Braith.head()"
      ],
      "execution_count": null,
      "outputs": [
        {
          "output_type": "execute_result",
          "data": {
            "text/html": [
              "<div>\n",
              "<style scoped>\n",
              "    .dataframe tbody tr th:only-of-type {\n",
              "        vertical-align: middle;\n",
              "    }\n",
              "\n",
              "    .dataframe tbody tr th {\n",
              "        vertical-align: top;\n",
              "    }\n",
              "\n",
              "    .dataframe thead th {\n",
              "        text-align: right;\n",
              "    }\n",
              "</style>\n",
              "<table border=\"1\" class=\"dataframe\">\n",
              "  <thead>\n",
              "    <tr style=\"text-align: right;\">\n",
              "      <th></th>\n",
              "      <th>#</th>\n",
              "      <th>midid</th>\n",
              "      <th>year</th>\n",
              "      <th>month</th>\n",
              "      <th>lat-deg</th>\n",
              "      <th>lat-min</th>\n",
              "      <th>lon-deg</th>\n",
              "      <th>lon-min</th>\n",
              "      <th>x</th>\n",
              "      <th>y</th>\n",
              "    </tr>\n",
              "  </thead>\n",
              "  <tbody>\n",
              "    <tr>\n",
              "      <th>0</th>\n",
              "      <td>1</td>\n",
              "      <td>3239</td>\n",
              "      <td>1816</td>\n",
              "      <td>7</td>\n",
              "      <td>26</td>\n",
              "      <td>28</td>\n",
              "      <td>-81</td>\n",
              "      <td>49</td>\n",
              "      <td>-81.816667</td>\n",
              "      <td>26.466667</td>\n",
              "    </tr>\n",
              "    <tr>\n",
              "      <th>1</th>\n",
              "      <td>2</td>\n",
              "      <td>3320</td>\n",
              "      <td>1817</td>\n",
              "      <td>4</td>\n",
              "      <td>44</td>\n",
              "      <td>26</td>\n",
              "      <td>26</td>\n",
              "      <td>6</td>\n",
              "      <td>26.100000</td>\n",
              "      <td>44.433333</td>\n",
              "    </tr>\n",
              "    <tr>\n",
              "      <th>2</th>\n",
              "      <td>3</td>\n",
              "      <td>3238</td>\n",
              "      <td>1817</td>\n",
              "      <td>6</td>\n",
              "      <td>30</td>\n",
              "      <td>32</td>\n",
              "      <td>-81</td>\n",
              "      <td>56</td>\n",
              "      <td>-81.933333</td>\n",
              "      <td>30.533333</td>\n",
              "    </tr>\n",
              "    <tr>\n",
              "      <th>3</th>\n",
              "      <td>4</td>\n",
              "      <td>3321</td>\n",
              "      <td>1817</td>\n",
              "      <td>9</td>\n",
              "      <td>44</td>\n",
              "      <td>26</td>\n",
              "      <td>26</td>\n",
              "      <td>6</td>\n",
              "      <td>26.100000</td>\n",
              "      <td>44.433333</td>\n",
              "    </tr>\n",
              "    <tr>\n",
              "      <th>4</th>\n",
              "      <td>5</td>\n",
              "      <td>147</td>\n",
              "      <td>1821</td>\n",
              "      <td>1</td>\n",
              "      <td>42</td>\n",
              "      <td>24</td>\n",
              "      <td>12</td>\n",
              "      <td>51</td>\n",
              "      <td>12.850000</td>\n",
              "      <td>42.400000</td>\n",
              "    </tr>\n",
              "  </tbody>\n",
              "</table>\n",
              "</div>"
            ],
            "text/plain": [
              "   #  midid  year  month  ...  lon-deg  lon-min          x          y\n",
              "0  1   3239  1816      7  ...      -81       49 -81.816667  26.466667\n",
              "1  2   3320  1817      4  ...       26        6  26.100000  44.433333\n",
              "2  3   3238  1817      6  ...      -81       56 -81.933333  30.533333\n",
              "3  4   3321  1817      9  ...       26        6  26.100000  44.433333\n",
              "4  5    147  1821      1  ...       12       51  12.850000  42.400000\n",
              "\n",
              "[5 rows x 10 columns]"
            ]
          },
          "metadata": {
            "tags": []
          },
          "execution_count": 49
        }
      ]
    },
    {
      "cell_type": "code",
      "metadata": {
        "id": "ON-7403Tp5Wv",
        "colab": {
          "base_uri": "https://localhost:8080/",
          "height": 195
        },
        "outputId": "f2c371d6-2b3d-489c-9765-337f0e9f45b8"
      },
      "source": [
        "Braith.tail()"
      ],
      "execution_count": null,
      "outputs": [
        {
          "output_type": "execute_result",
          "data": {
            "text/html": [
              "<div>\n",
              "<style scoped>\n",
              "    .dataframe tbody tr th:only-of-type {\n",
              "        vertical-align: middle;\n",
              "    }\n",
              "\n",
              "    .dataframe tbody tr th {\n",
              "        vertical-align: top;\n",
              "    }\n",
              "\n",
              "    .dataframe thead th {\n",
              "        text-align: right;\n",
              "    }\n",
              "</style>\n",
              "<table border=\"1\" class=\"dataframe\">\n",
              "  <thead>\n",
              "    <tr style=\"text-align: right;\">\n",
              "      <th></th>\n",
              "      <th>#</th>\n",
              "      <th>midid</th>\n",
              "      <th>year</th>\n",
              "      <th>month</th>\n",
              "      <th>lat-deg</th>\n",
              "      <th>lat-min</th>\n",
              "      <th>lon-deg</th>\n",
              "      <th>lon-min</th>\n",
              "      <th>x</th>\n",
              "      <th>y</th>\n",
              "    </tr>\n",
              "  </thead>\n",
              "  <tbody>\n",
              "    <tr>\n",
              "      <th>1835</th>\n",
              "      <td>1836</td>\n",
              "      <td>4263</td>\n",
              "      <td>2001</td>\n",
              "      <td>10</td>\n",
              "      <td>15</td>\n",
              "      <td>0</td>\n",
              "      <td>-82</td>\n",
              "      <td>0</td>\n",
              "      <td>82.000000</td>\n",
              "      <td>15.000000</td>\n",
              "    </tr>\n",
              "    <tr>\n",
              "      <th>1836</th>\n",
              "      <td>1837</td>\n",
              "      <td>4305</td>\n",
              "      <td>2001</td>\n",
              "      <td>10</td>\n",
              "      <td>3</td>\n",
              "      <td>35</td>\n",
              "      <td>32</td>\n",
              "      <td>10</td>\n",
              "      <td>32.166667</td>\n",
              "      <td>3.583333</td>\n",
              "    </tr>\n",
              "    <tr>\n",
              "      <th>1837</th>\n",
              "      <td>1838</td>\n",
              "      <td>4266</td>\n",
              "      <td>2001</td>\n",
              "      <td>12</td>\n",
              "      <td>29</td>\n",
              "      <td>0</td>\n",
              "      <td>128</td>\n",
              "      <td>0</td>\n",
              "      <td>128.000000</td>\n",
              "      <td>29.000000</td>\n",
              "    </tr>\n",
              "    <tr>\n",
              "      <th>1838</th>\n",
              "      <td>1839</td>\n",
              "      <td>4284</td>\n",
              "      <td>2001</td>\n",
              "      <td>12</td>\n",
              "      <td>7</td>\n",
              "      <td>39</td>\n",
              "      <td>18</td>\n",
              "      <td>37</td>\n",
              "      <td>18.616667</td>\n",
              "      <td>7.650000</td>\n",
              "    </tr>\n",
              "    <tr>\n",
              "      <th>1839</th>\n",
              "      <td>1840</td>\n",
              "      <td>4320</td>\n",
              "      <td>2001</td>\n",
              "      <td>12</td>\n",
              "      <td>36</td>\n",
              "      <td>36</td>\n",
              "      <td>27</td>\n",
              "      <td>49</td>\n",
              "      <td>27.816667</td>\n",
              "      <td>36.600000</td>\n",
              "    </tr>\n",
              "  </tbody>\n",
              "</table>\n",
              "</div>"
            ],
            "text/plain": [
              "         #  midid  year  month  ...  lon-deg  lon-min           x          y\n",
              "1835  1836   4263  2001     10  ...      -82        0   82.000000  15.000000\n",
              "1836  1837   4305  2001     10  ...       32       10   32.166667   3.583333\n",
              "1837  1838   4266  2001     12  ...      128        0  128.000000  29.000000\n",
              "1838  1839   4284  2001     12  ...       18       37   18.616667   7.650000\n",
              "1839  1840   4320  2001     12  ...       27       49   27.816667  36.600000\n",
              "\n",
              "[5 rows x 10 columns]"
            ]
          },
          "metadata": {
            "tags": []
          },
          "execution_count": 50
        }
      ]
    },
    {
      "cell_type": "code",
      "metadata": {
        "id": "4DfQJJecqHQ7"
      },
      "source": [
        ""
      ],
      "execution_count": null,
      "outputs": []
    }
  ]
}